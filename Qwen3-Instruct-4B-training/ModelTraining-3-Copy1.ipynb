{
 "cells": [
  {
   "cell_type": "code",
   "execution_count": 1,
   "id": "374ab229-990d-4090-bae8-2bfcc2b08f08",
   "metadata": {
    "execution": {
     "iopub.execute_input": "2025-09-26T13:10:28.533852Z",
     "iopub.status.busy": "2025-09-26T13:10:28.533603Z",
     "iopub.status.idle": "2025-09-26T13:10:39.903949Z",
     "shell.execute_reply": "2025-09-26T13:10:39.903296Z",
     "shell.execute_reply.started": "2025-09-26T13:10:28.533834Z"
    }
   },
   "outputs": [
    {
     "name": "stdout",
     "output_type": "stream",
     "text": [
      "Collecting trl\n",
      "  Using cached trl-0.23.0-py3-none-any.whl.metadata (11 kB)\n",
      "Requirement already satisfied: accelerate>=1.4.0 in /opt/conda/lib/python3.12/site-packages (from trl) (1.10.0)\n",
      "Collecting datasets>=3.0.0 (from trl)\n",
      "  Using cached datasets-4.1.1-py3-none-any.whl.metadata (18 kB)\n",
      "Collecting transformers>=4.56.1 (from trl)\n",
      "  Using cached transformers-4.56.2-py3-none-any.whl.metadata (40 kB)\n",
      "Requirement already satisfied: numpy<3.0.0,>=1.17 in /opt/conda/lib/python3.12/site-packages (from accelerate>=1.4.0->trl) (1.26.4)\n",
      "Requirement already satisfied: packaging>=20.0 in /opt/conda/lib/python3.12/site-packages (from accelerate>=1.4.0->trl) (24.2)\n",
      "Requirement already satisfied: psutil in /opt/conda/lib/python3.12/site-packages (from accelerate>=1.4.0->trl) (5.9.8)\n",
      "Requirement already satisfied: pyyaml in /opt/conda/lib/python3.12/site-packages (from accelerate>=1.4.0->trl) (6.0.2)\n",
      "Requirement already satisfied: torch>=2.0.0 in /opt/conda/lib/python3.12/site-packages (from accelerate>=1.4.0->trl) (2.6.0)\n",
      "Requirement already satisfied: huggingface_hub>=0.21.0 in /opt/conda/lib/python3.12/site-packages (from accelerate>=1.4.0->trl) (0.34.4)\n",
      "Requirement already satisfied: safetensors>=0.4.3 in /opt/conda/lib/python3.12/site-packages (from accelerate>=1.4.0->trl) (0.6.2)\n",
      "Requirement already satisfied: filelock in /opt/conda/lib/python3.12/site-packages (from datasets>=3.0.0->trl) (3.19.1)\n",
      "Collecting pyarrow>=21.0.0 (from datasets>=3.0.0->trl)\n",
      "  Using cached pyarrow-21.0.0-cp312-cp312-manylinux_2_28_x86_64.whl.metadata (3.3 kB)\n",
      "Requirement already satisfied: dill<0.4.1,>=0.3.0 in /opt/conda/lib/python3.12/site-packages (from datasets>=3.0.0->trl) (0.4.0)\n",
      "Requirement already satisfied: pandas in /opt/conda/lib/python3.12/site-packages (from datasets>=3.0.0->trl) (2.3.1)\n",
      "Requirement already satisfied: requests>=2.32.2 in /opt/conda/lib/python3.12/site-packages (from datasets>=3.0.0->trl) (2.32.4)\n",
      "Requirement already satisfied: tqdm>=4.66.3 in /opt/conda/lib/python3.12/site-packages (from datasets>=3.0.0->trl) (4.67.1)\n",
      "Requirement already satisfied: xxhash in /opt/conda/lib/python3.12/site-packages (from datasets>=3.0.0->trl) (3.5.0)\n",
      "Collecting multiprocess<0.70.17 (from datasets>=3.0.0->trl)\n",
      "  Using cached multiprocess-0.70.16-py312-none-any.whl.metadata (7.2 kB)\n",
      "Requirement already satisfied: fsspec<=2025.9.0,>=2023.1.0 in /opt/conda/lib/python3.12/site-packages (from fsspec[http]<=2025.9.0,>=2023.1.0->datasets>=3.0.0->trl) (2024.12.0)\n",
      "Requirement already satisfied: aiohttp!=4.0.0a0,!=4.0.0a1 in /opt/conda/lib/python3.12/site-packages (from fsspec[http]<=2025.9.0,>=2023.1.0->datasets>=3.0.0->trl) (3.12.15)\n",
      "Requirement already satisfied: aiohappyeyeballs>=2.5.0 in /opt/conda/lib/python3.12/site-packages (from aiohttp!=4.0.0a0,!=4.0.0a1->fsspec[http]<=2025.9.0,>=2023.1.0->datasets>=3.0.0->trl) (2.6.1)\n",
      "Requirement already satisfied: aiosignal>=1.4.0 in /opt/conda/lib/python3.12/site-packages (from aiohttp!=4.0.0a0,!=4.0.0a1->fsspec[http]<=2025.9.0,>=2023.1.0->datasets>=3.0.0->trl) (1.4.0)\n",
      "Requirement already satisfied: attrs>=17.3.0 in /opt/conda/lib/python3.12/site-packages (from aiohttp!=4.0.0a0,!=4.0.0a1->fsspec[http]<=2025.9.0,>=2023.1.0->datasets>=3.0.0->trl) (23.2.0)\n",
      "Requirement already satisfied: frozenlist>=1.1.1 in /opt/conda/lib/python3.12/site-packages (from aiohttp!=4.0.0a0,!=4.0.0a1->fsspec[http]<=2025.9.0,>=2023.1.0->datasets>=3.0.0->trl) (1.7.0)\n",
      "Requirement already satisfied: multidict<7.0,>=4.5 in /opt/conda/lib/python3.12/site-packages (from aiohttp!=4.0.0a0,!=4.0.0a1->fsspec[http]<=2025.9.0,>=2023.1.0->datasets>=3.0.0->trl) (6.6.3)\n",
      "Requirement already satisfied: propcache>=0.2.0 in /opt/conda/lib/python3.12/site-packages (from aiohttp!=4.0.0a0,!=4.0.0a1->fsspec[http]<=2025.9.0,>=2023.1.0->datasets>=3.0.0->trl) (0.3.1)\n",
      "Requirement already satisfied: yarl<2.0,>=1.17.0 in /opt/conda/lib/python3.12/site-packages (from aiohttp!=4.0.0a0,!=4.0.0a1->fsspec[http]<=2025.9.0,>=2023.1.0->datasets>=3.0.0->trl) (1.20.1)\n",
      "Requirement already satisfied: idna>=2.0 in /opt/conda/lib/python3.12/site-packages (from yarl<2.0,>=1.17.0->aiohttp!=4.0.0a0,!=4.0.0a1->fsspec[http]<=2025.9.0,>=2023.1.0->datasets>=3.0.0->trl) (3.10)\n",
      "Requirement already satisfied: typing-extensions>=4.2 in /opt/conda/lib/python3.12/site-packages (from aiosignal>=1.4.0->aiohttp!=4.0.0a0,!=4.0.0a1->fsspec[http]<=2025.9.0,>=2023.1.0->datasets>=3.0.0->trl) (4.14.1)\n",
      "Requirement already satisfied: hf-xet<2.0.0,>=1.1.3 in /opt/conda/lib/python3.12/site-packages (from huggingface_hub>=0.21.0->accelerate>=1.4.0->trl) (1.1.7)\n",
      "Requirement already satisfied: charset_normalizer<4,>=2 in /opt/conda/lib/python3.12/site-packages (from requests>=2.32.2->datasets>=3.0.0->trl) (3.4.3)\n",
      "Requirement already satisfied: urllib3<3,>=1.21.1 in /opt/conda/lib/python3.12/site-packages (from requests>=2.32.2->datasets>=3.0.0->trl) (1.26.19)\n",
      "Requirement already satisfied: certifi>=2017.4.17 in /opt/conda/lib/python3.12/site-packages (from requests>=2.32.2->datasets>=3.0.0->trl) (2025.8.3)\n",
      "Requirement already satisfied: setuptools in /opt/conda/lib/python3.12/site-packages (from torch>=2.0.0->accelerate>=1.4.0->trl) (80.9.0)\n",
      "Requirement already satisfied: sympy!=1.13.2,>=1.13.1 in /opt/conda/lib/python3.12/site-packages (from torch>=2.0.0->accelerate>=1.4.0->trl) (1.14.0)\n",
      "Requirement already satisfied: networkx in /opt/conda/lib/python3.12/site-packages (from torch>=2.0.0->accelerate>=1.4.0->trl) (3.5)\n",
      "Requirement already satisfied: jinja2 in /opt/conda/lib/python3.12/site-packages (from torch>=2.0.0->accelerate>=1.4.0->trl) (3.1.6)\n",
      "Requirement already satisfied: mpmath<1.4,>=1.1.0 in /opt/conda/lib/python3.12/site-packages (from sympy!=1.13.2,>=1.13.1->torch>=2.0.0->accelerate>=1.4.0->trl) (1.3.0)\n",
      "Requirement already satisfied: regex!=2019.12.17 in /opt/conda/lib/python3.12/site-packages (from transformers>=4.56.1->trl) (2025.7.34)\n",
      "Collecting tokenizers<=0.23.0,>=0.22.0 (from transformers>=4.56.1->trl)\n",
      "  Using cached tokenizers-0.22.1-cp39-abi3-manylinux_2_17_x86_64.manylinux2014_x86_64.whl.metadata (6.8 kB)\n",
      "Requirement already satisfied: MarkupSafe>=2.0 in /opt/conda/lib/python3.12/site-packages (from jinja2->torch>=2.0.0->accelerate>=1.4.0->trl) (3.0.2)\n",
      "Requirement already satisfied: python-dateutil>=2.8.2 in /opt/conda/lib/python3.12/site-packages (from pandas->datasets>=3.0.0->trl) (2.9.0.post0)\n",
      "Requirement already satisfied: pytz>=2020.1 in /opt/conda/lib/python3.12/site-packages (from pandas->datasets>=3.0.0->trl) (2024.2)\n",
      "Requirement already satisfied: tzdata>=2022.7 in /opt/conda/lib/python3.12/site-packages (from pandas->datasets>=3.0.0->trl) (2025.2)\n",
      "Requirement already satisfied: six>=1.5 in /opt/conda/lib/python3.12/site-packages (from python-dateutil>=2.8.2->pandas->datasets>=3.0.0->trl) (1.17.0)\n",
      "Using cached trl-0.23.0-py3-none-any.whl (564 kB)\n",
      "Using cached datasets-4.1.1-py3-none-any.whl (503 kB)\n",
      "Using cached multiprocess-0.70.16-py312-none-any.whl (146 kB)\n",
      "Using cached pyarrow-21.0.0-cp312-cp312-manylinux_2_28_x86_64.whl (42.8 MB)\n",
      "Using cached transformers-4.56.2-py3-none-any.whl (11.6 MB)\n",
      "Using cached tokenizers-0.22.1-cp39-abi3-manylinux_2_17_x86_64.manylinux2014_x86_64.whl (3.3 MB)\n",
      "Installing collected packages: pyarrow, multiprocess, tokenizers, transformers, datasets, trl\n",
      "\u001b[2K  Attempting uninstall: pyarrow\n",
      "\u001b[2K    Found existing installation: pyarrow 19.0.1\n",
      "\u001b[2K    Uninstalling pyarrow-19.0.1:\n",
      "\u001b[2K      Successfully uninstalled pyarrow-19.0.1━━━\u001b[0m \u001b[32m0/6\u001b[0m [pyarrow]\n",
      "\u001b[2K  Attempting uninstall: multiprocess━━━━━━━━━━━━\u001b[0m \u001b[32m0/6\u001b[0m [pyarrow]\n",
      "\u001b[2K    Found existing installation: multiprocess 0.70.18m0/6\u001b[0m [pyarrow]\n",
      "\u001b[2K    Uninstalling multiprocess-0.70.18:━━━━━━\u001b[0m \u001b[32m0/6\u001b[0m [pyarrow]\n",
      "\u001b[2K      Successfully uninstalled multiprocess-0.70.1832m0/6\u001b[0m [pyarrow]\n",
      "\u001b[2K  Attempting uninstall: tokenizers━━━━━━━━━━━━━━━━━━━━━━━━━━━━━━━━\u001b[0m \u001b[32m1/6\u001b[0m [multiprocess]\n",
      "\u001b[2K    Found existing installation: tokenizers 0.21.4━━━━━━━━━━━━\u001b[0m \u001b[32m1/6\u001b[0m [multiprocess]\n",
      "\u001b[2K    Uninstalling tokenizers-0.21.4:━━━━━━━━━━━━━━━━━━━━━━━━━━━\u001b[0m \u001b[32m1/6\u001b[0m [multiprocess]\n",
      "\u001b[2K      Successfully uninstalled tokenizers-0.21.4━━━━━━━━━━━━━━\u001b[0m \u001b[32m1/6\u001b[0m [multiprocess]\n",
      "\u001b[2K  Attempting uninstall: transformers━━━━━━━━━━━━━━━━━━━━━━━━━━\u001b[0m \u001b[32m1/6\u001b[0m [multiprocess]\n",
      "\u001b[2K    Found existing installation: transformers 4.55.2━━━━━━━━━━\u001b[0m \u001b[32m1/6\u001b[0m [multiprocess]\n",
      "\u001b[2K    Uninstalling transformers-4.55.2:╺\u001b[0m\u001b[90m━━━━━━━━━━━━━━━━━━━\u001b[0m \u001b[32m3/6\u001b[0m [transformers]\n",
      "\u001b[2K      Successfully uninstalled transformers-4.55.2━━━━━━━━━━━━━━━━\u001b[0m \u001b[32m3/6\u001b[0m [transformers]\n",
      "\u001b[2K  Attempting uninstall: datasets\u001b[90m╺\u001b[0m\u001b[90m━━━━━━━━━━━━━━━━━━━\u001b[0m \u001b[32m3/6\u001b[0m [transformers]\n",
      "\u001b[2K    Found existing installation: datasets 2.2.1━━━━━━━━━━━━━━━\u001b[0m \u001b[32m3/6\u001b[0m [transformers]\n",
      "\u001b[2K    Uninstalling datasets-2.2.1:m╺\u001b[0m\u001b[90m━━━━━━━━━━━━━━━━━━━\u001b[0m \u001b[32m3/6\u001b[0m [transformers]\n",
      "\u001b[2K      Successfully uninstalled datasets-2.2.1━━━━━━━━━━━━━━━━━\u001b[0m \u001b[32m3/6\u001b[0m [transformers]\n",
      "\u001b[2K   \u001b[90m━━━━━━━━━━━━━━━━━━━━━━━━━━━━━━━━━━━━━━━━\u001b[0m \u001b[32m6/6\u001b[0m [trl]\u001b[32m5/6\u001b[0m [trl]sets]\n",
      "\u001b[1A\u001b[2K\u001b[31mERROR: pip's dependency resolver does not currently take into account all the packages that are installed. This behaviour is the source of the following dependency conflicts.\n",
      "amazon-sagemaker-jupyter-ai-q-developer 1.2.7 requires onnxruntime<2,>=1.15.0, which is not installed.\n",
      "autogluon-multimodal 1.4.0 requires nvidia-ml-py3<8.0,>=7.352.0, which is not installed.\n",
      "autogluon-common 1.4.0 requires pyarrow<21.0.0,>=7.0.0, but you have pyarrow 21.0.0 which is incompatible.\n",
      "autogluon-multimodal 1.4.0 requires transformers[sentencepiece]<4.50,>=4.38.0, but you have transformers 4.56.2 which is incompatible.\n",
      "autogluon-timeseries 1.4.0 requires transformers[sentencepiece]<4.50,>=4.38.0, but you have transformers 4.56.2 which is incompatible.\n",
      "mlflow 2.22.0 requires pyarrow<20,>=4.0.0, but you have pyarrow 21.0.0 which is incompatible.\n",
      "pathos 0.3.4 requires multiprocess>=0.70.18, but you have multiprocess 0.70.16 which is incompatible.\u001b[0m\u001b[31m\n",
      "\u001b[0mSuccessfully installed datasets-4.1.1 multiprocess-0.70.16 pyarrow-21.0.0 tokenizers-0.22.1 transformers-4.56.2 trl-0.23.0\n"
     ]
    }
   ],
   "source": [
    "!pip install trl"
   ]
  },
  {
   "cell_type": "code",
   "execution_count": 2,
   "id": "4e827362-605e-4347-a0c3-c65ac92d0ea7",
   "metadata": {
    "execution": {
     "iopub.execute_input": "2025-09-26T13:10:52.880380Z",
     "iopub.status.busy": "2025-09-26T13:10:52.880147Z",
     "iopub.status.idle": "2025-09-26T13:10:55.360392Z",
     "shell.execute_reply": "2025-09-26T13:10:55.359781Z",
     "shell.execute_reply.started": "2025-09-26T13:10:52.880359Z"
    }
   },
   "outputs": [
    {
     "name": "stdout",
     "output_type": "stream",
     "text": [
      "Collecting bitsandbytes\n",
      "  Using cached bitsandbytes-0.47.0-py3-none-manylinux_2_24_x86_64.whl.metadata (11 kB)\n",
      "Requirement already satisfied: torch<3,>=2.2 in /opt/conda/lib/python3.12/site-packages (from bitsandbytes) (2.6.0)\n",
      "Requirement already satisfied: numpy>=1.17 in /opt/conda/lib/python3.12/site-packages (from bitsandbytes) (1.26.4)\n",
      "Requirement already satisfied: filelock in /opt/conda/lib/python3.12/site-packages (from torch<3,>=2.2->bitsandbytes) (3.19.1)\n",
      "Requirement already satisfied: typing-extensions>=4.10.0 in /opt/conda/lib/python3.12/site-packages (from torch<3,>=2.2->bitsandbytes) (4.14.1)\n",
      "Requirement already satisfied: setuptools in /opt/conda/lib/python3.12/site-packages (from torch<3,>=2.2->bitsandbytes) (80.9.0)\n",
      "Requirement already satisfied: sympy!=1.13.2,>=1.13.1 in /opt/conda/lib/python3.12/site-packages (from torch<3,>=2.2->bitsandbytes) (1.14.0)\n",
      "Requirement already satisfied: networkx in /opt/conda/lib/python3.12/site-packages (from torch<3,>=2.2->bitsandbytes) (3.5)\n",
      "Requirement already satisfied: jinja2 in /opt/conda/lib/python3.12/site-packages (from torch<3,>=2.2->bitsandbytes) (3.1.6)\n",
      "Requirement already satisfied: fsspec in /opt/conda/lib/python3.12/site-packages (from torch<3,>=2.2->bitsandbytes) (2024.12.0)\n",
      "Requirement already satisfied: mpmath<1.4,>=1.1.0 in /opt/conda/lib/python3.12/site-packages (from sympy!=1.13.2,>=1.13.1->torch<3,>=2.2->bitsandbytes) (1.3.0)\n",
      "Requirement already satisfied: MarkupSafe>=2.0 in /opt/conda/lib/python3.12/site-packages (from jinja2->torch<3,>=2.2->bitsandbytes) (3.0.2)\n",
      "Using cached bitsandbytes-0.47.0-py3-none-manylinux_2_24_x86_64.whl (61.3 MB)\n",
      "Installing collected packages: bitsandbytes\n",
      "Successfully installed bitsandbytes-0.47.0\n"
     ]
    }
   ],
   "source": [
    "!pip install -U bitsandbytes"
   ]
  },
  {
   "cell_type": "code",
   "execution_count": 3,
   "id": "7542a8b8-2999-4fc7-a752-cad626a06baa",
   "metadata": {
    "execution": {
     "iopub.execute_input": "2025-09-26T13:11:01.514635Z",
     "iopub.status.busy": "2025-09-26T13:11:01.514378Z",
     "iopub.status.idle": "2025-09-26T13:11:02.700250Z",
     "shell.execute_reply": "2025-09-26T13:11:02.699658Z",
     "shell.execute_reply.started": "2025-09-26T13:11:01.514615Z"
    }
   },
   "outputs": [
    {
     "name": "stdout",
     "output_type": "stream",
     "text": [
      "Requirement already satisfied: torch in /opt/conda/lib/python3.12/site-packages (2.6.0)\n",
      "Requirement already satisfied: filelock in /opt/conda/lib/python3.12/site-packages (from torch) (3.19.1)\n",
      "Requirement already satisfied: typing-extensions>=4.10.0 in /opt/conda/lib/python3.12/site-packages (from torch) (4.14.1)\n",
      "Requirement already satisfied: setuptools in /opt/conda/lib/python3.12/site-packages (from torch) (80.9.0)\n",
      "Requirement already satisfied: sympy!=1.13.2,>=1.13.1 in /opt/conda/lib/python3.12/site-packages (from torch) (1.14.0)\n",
      "Requirement already satisfied: networkx in /opt/conda/lib/python3.12/site-packages (from torch) (3.5)\n",
      "Requirement already satisfied: jinja2 in /opt/conda/lib/python3.12/site-packages (from torch) (3.1.6)\n",
      "Requirement already satisfied: fsspec in /opt/conda/lib/python3.12/site-packages (from torch) (2024.12.0)\n",
      "Requirement already satisfied: mpmath<1.4,>=1.1.0 in /opt/conda/lib/python3.12/site-packages (from sympy!=1.13.2,>=1.13.1->torch) (1.3.0)\n",
      "Requirement already satisfied: MarkupSafe>=2.0 in /opt/conda/lib/python3.12/site-packages (from jinja2->torch) (3.0.2)\n"
     ]
    }
   ],
   "source": [
    "!pip install torch"
   ]
  },
  {
   "cell_type": "code",
   "execution_count": 4,
   "id": "88a9aa62-1ede-489a-a25f-084a06be0694",
   "metadata": {
    "execution": {
     "iopub.execute_input": "2025-09-26T13:11:09.504674Z",
     "iopub.status.busy": "2025-09-26T13:11:09.504422Z",
     "iopub.status.idle": "2025-09-26T13:11:11.034007Z",
     "shell.execute_reply": "2025-09-26T13:11:11.033373Z",
     "shell.execute_reply.started": "2025-09-26T13:11:09.504655Z"
    }
   },
   "outputs": [
    {
     "name": "stdout",
     "output_type": "stream",
     "text": [
      "Collecting peft\n",
      "  Using cached peft-0.17.1-py3-none-any.whl.metadata (14 kB)\n",
      "Requirement already satisfied: numpy>=1.17 in /opt/conda/lib/python3.12/site-packages (from peft) (1.26.4)\n",
      "Requirement already satisfied: packaging>=20.0 in /opt/conda/lib/python3.12/site-packages (from peft) (24.2)\n",
      "Requirement already satisfied: psutil in /opt/conda/lib/python3.12/site-packages (from peft) (5.9.8)\n",
      "Requirement already satisfied: pyyaml in /opt/conda/lib/python3.12/site-packages (from peft) (6.0.2)\n",
      "Requirement already satisfied: torch>=1.13.0 in /opt/conda/lib/python3.12/site-packages (from peft) (2.6.0)\n",
      "Requirement already satisfied: transformers in /opt/conda/lib/python3.12/site-packages (from peft) (4.56.2)\n",
      "Requirement already satisfied: tqdm in /opt/conda/lib/python3.12/site-packages (from peft) (4.67.1)\n",
      "Requirement already satisfied: accelerate>=0.21.0 in /opt/conda/lib/python3.12/site-packages (from peft) (1.10.0)\n",
      "Requirement already satisfied: safetensors in /opt/conda/lib/python3.12/site-packages (from peft) (0.6.2)\n",
      "Requirement already satisfied: huggingface_hub>=0.25.0 in /opt/conda/lib/python3.12/site-packages (from peft) (0.34.4)\n",
      "Requirement already satisfied: filelock in /opt/conda/lib/python3.12/site-packages (from huggingface_hub>=0.25.0->peft) (3.19.1)\n",
      "Requirement already satisfied: fsspec>=2023.5.0 in /opt/conda/lib/python3.12/site-packages (from huggingface_hub>=0.25.0->peft) (2024.12.0)\n",
      "Requirement already satisfied: hf-xet<2.0.0,>=1.1.3 in /opt/conda/lib/python3.12/site-packages (from huggingface_hub>=0.25.0->peft) (1.1.7)\n",
      "Requirement already satisfied: requests in /opt/conda/lib/python3.12/site-packages (from huggingface_hub>=0.25.0->peft) (2.32.4)\n",
      "Requirement already satisfied: typing-extensions>=3.7.4.3 in /opt/conda/lib/python3.12/site-packages (from huggingface_hub>=0.25.0->peft) (4.14.1)\n",
      "Requirement already satisfied: setuptools in /opt/conda/lib/python3.12/site-packages (from torch>=1.13.0->peft) (80.9.0)\n",
      "Requirement already satisfied: sympy!=1.13.2,>=1.13.1 in /opt/conda/lib/python3.12/site-packages (from torch>=1.13.0->peft) (1.14.0)\n",
      "Requirement already satisfied: networkx in /opt/conda/lib/python3.12/site-packages (from torch>=1.13.0->peft) (3.5)\n",
      "Requirement already satisfied: jinja2 in /opt/conda/lib/python3.12/site-packages (from torch>=1.13.0->peft) (3.1.6)\n",
      "Requirement already satisfied: mpmath<1.4,>=1.1.0 in /opt/conda/lib/python3.12/site-packages (from sympy!=1.13.2,>=1.13.1->torch>=1.13.0->peft) (1.3.0)\n",
      "Requirement already satisfied: MarkupSafe>=2.0 in /opt/conda/lib/python3.12/site-packages (from jinja2->torch>=1.13.0->peft) (3.0.2)\n",
      "Requirement already satisfied: charset_normalizer<4,>=2 in /opt/conda/lib/python3.12/site-packages (from requests->huggingface_hub>=0.25.0->peft) (3.4.3)\n",
      "Requirement already satisfied: idna<4,>=2.5 in /opt/conda/lib/python3.12/site-packages (from requests->huggingface_hub>=0.25.0->peft) (3.10)\n",
      "Requirement already satisfied: urllib3<3,>=1.21.1 in /opt/conda/lib/python3.12/site-packages (from requests->huggingface_hub>=0.25.0->peft) (1.26.19)\n",
      "Requirement already satisfied: certifi>=2017.4.17 in /opt/conda/lib/python3.12/site-packages (from requests->huggingface_hub>=0.25.0->peft) (2025.8.3)\n",
      "Requirement already satisfied: regex!=2019.12.17 in /opt/conda/lib/python3.12/site-packages (from transformers->peft) (2025.7.34)\n",
      "Requirement already satisfied: tokenizers<=0.23.0,>=0.22.0 in /opt/conda/lib/python3.12/site-packages (from transformers->peft) (0.22.1)\n",
      "Using cached peft-0.17.1-py3-none-any.whl (504 kB)\n",
      "Installing collected packages: peft\n",
      "Successfully installed peft-0.17.1\n"
     ]
    }
   ],
   "source": [
    "!pip install peft"
   ]
  },
  {
   "cell_type": "code",
   "execution_count": 5,
   "id": "a6837a42-d8ec-44dd-a1e5-3e2e7ace2f88",
   "metadata": {
    "execution": {
     "iopub.execute_input": "2025-09-26T13:11:18.277629Z",
     "iopub.status.busy": "2025-09-26T13:11:18.277371Z",
     "iopub.status.idle": "2025-09-26T13:11:25.105712Z",
     "shell.execute_reply": "2025-09-26T13:11:25.105226Z",
     "shell.execute_reply.started": "2025-09-26T13:11:18.277612Z"
    }
   },
   "outputs": [
    {
     "name": "stderr",
     "output_type": "stream",
     "text": [
      "2025-09-26 13:11:21.294317: E external/local_xla/xla/stream_executor/cuda/cuda_fft.cc:477] Unable to register cuFFT factory: Attempting to register factory for plugin cuFFT when one has already been registered\n",
      "WARNING: All log messages before absl::InitializeLog() is called are written to STDERR\n",
      "E0000 00:00:1758892281.307573    1301 cuda_dnn.cc:8310] Unable to register cuDNN factory: Attempting to register factory for plugin cuDNN when one has already been registered\n",
      "E0000 00:00:1758892281.311334    1301 cuda_blas.cc:1418] Unable to register cuBLAS factory: Attempting to register factory for plugin cuBLAS when one has already been registered\n",
      "2025-09-26 13:11:21.324489: I tensorflow/core/platform/cpu_feature_guard.cc:210] This TensorFlow binary is optimized to use available CPU instructions in performance-critical operations.\n",
      "To enable the following instructions: SSE4.1 SSE4.2 AVX AVX2 FMA, in other operations, rebuild TensorFlow with the appropriate compiler flags.\n"
     ]
    }
   ],
   "source": [
    "from trl import SFTTrainer"
   ]
  },
  {
   "cell_type": "code",
   "execution_count": 6,
   "id": "862afefa-debc-4c2c-8c12-c0a8f5c3d30b",
   "metadata": {
    "execution": {
     "iopub.execute_input": "2025-09-26T13:13:37.559720Z",
     "iopub.status.busy": "2025-09-26T13:13:37.559198Z",
     "iopub.status.idle": "2025-09-26T13:13:37.562279Z",
     "shell.execute_reply": "2025-09-26T13:13:37.561756Z",
     "shell.execute_reply.started": "2025-09-26T13:13:37.559699Z"
    }
   },
   "outputs": [],
   "source": [
    "import pandas as pd"
   ]
  },
  {
   "cell_type": "code",
   "execution_count": 7,
   "id": "714683d7-e9f1-4f1a-bed7-c31a666eebd0",
   "metadata": {
    "execution": {
     "iopub.execute_input": "2025-09-26T13:13:38.487391Z",
     "iopub.status.busy": "2025-09-26T13:13:38.487114Z",
     "iopub.status.idle": "2025-09-26T13:13:38.490087Z",
     "shell.execute_reply": "2025-09-26T13:13:38.489519Z",
     "shell.execute_reply.started": "2025-09-26T13:13:38.487353Z"
    }
   },
   "outputs": [],
   "source": [
    "from datasets import load_dataset\n",
    "from datasets import Dataset\n",
    "import json"
   ]
  },
  {
   "cell_type": "code",
   "execution_count": 8,
   "id": "de0e8177-0dfe-44f6-b6a4-8e149de42ea3",
   "metadata": {
    "execution": {
     "iopub.execute_input": "2025-09-26T13:13:43.072099Z",
     "iopub.status.busy": "2025-09-26T13:13:43.071796Z",
     "iopub.status.idle": "2025-09-26T13:14:18.681633Z",
     "shell.execute_reply": "2025-09-26T13:14:18.681127Z",
     "shell.execute_reply.started": "2025-09-26T13:13:43.072079Z"
    }
   },
   "outputs": [],
   "source": [
    "import torch\n",
    "from transformers import AutoTokenizer, AutoModelForCausalLM\n",
    "\n",
    "tokenizer = AutoTokenizer.from_pretrained(\"./local_model_dir\", use_fast=False)\n",
    "model = AutoModelForCausalLM.from_pretrained(\n",
    "    \"./local_model_dir\",\n",
    "    trust_remote_code=True,\n",
    ")\n",
    "\n",
    "# Get the device from the model (for quantized models, this is usually 'cuda' if available)\n",
    "#device = next(model.parameters()).device"
   ]
  },
  {
   "cell_type": "code",
   "execution_count": 9,
   "id": "2db30c8d-b4ea-437b-bde6-421206026a38",
   "metadata": {
    "execution": {
     "iopub.execute_input": "2025-09-26T13:14:32.642405Z",
     "iopub.status.busy": "2025-09-26T13:14:32.642144Z",
     "iopub.status.idle": "2025-09-26T13:14:32.658562Z",
     "shell.execute_reply": "2025-09-26T13:14:32.658087Z",
     "shell.execute_reply.started": "2025-09-26T13:14:32.642384Z"
    }
   },
   "outputs": [],
   "source": [
    "train_df = pd.read_csv(\"./data/train_dataset.csv\")"
   ]
  },
  {
   "cell_type": "code",
   "execution_count": 10,
   "id": "a34151e9-7ed6-450f-a0e9-d7e54624795b",
   "metadata": {
    "execution": {
     "iopub.execute_input": "2025-09-26T13:14:33.854759Z",
     "iopub.status.busy": "2025-09-26T13:14:33.854491Z",
     "iopub.status.idle": "2025-09-26T13:14:33.881692Z",
     "shell.execute_reply": "2025-09-26T13:14:33.881128Z",
     "shell.execute_reply.started": "2025-09-26T13:14:33.854741Z"
    }
   },
   "outputs": [],
   "source": [
    "train_df = Dataset.from_pandas(train_df)"
   ]
  },
  {
   "cell_type": "code",
   "execution_count": 11,
   "id": "51092784-2e95-43a7-8819-39d9483e5761",
   "metadata": {
    "execution": {
     "iopub.execute_input": "2025-09-26T13:14:36.056818Z",
     "iopub.status.busy": "2025-09-26T13:14:36.056536Z",
     "iopub.status.idle": "2025-09-26T13:14:36.066641Z",
     "shell.execute_reply": "2025-09-26T13:14:36.066170Z",
     "shell.execute_reply.started": "2025-09-26T13:14:36.056799Z"
    }
   },
   "outputs": [
    {
     "data": {
      "text/plain": [
       "{'tools': '[{\"name\": \"chi_square_independence_test\", \"description\": \"Performs a Chi-Square test for independence on a 2x2 contingency table.\", \"parameters\": {\"contingency_table\": {\"description\": \"A 2x2 contingency table represented as a list of lists.\", \"type\": \"List[List[int]]\", \"default\": 0.05}, \"significance_level\": {\"description\": \"The significance level for the Chi-Square test. Defaults to 0.05.\", \"type\": \"float, optional\", \"default\": 0.05}}}]',\n",
       " 'answers': '[{\"name\": \"chi_square_independence_test\", \"arguments\": {\"contingency_table\": [[80, 20], [60, 40]], \"significance_level\": 0.05}}]',\n",
       " 'query': 'A psychologist wants to test if there is a significant relationship between a personality trait and a behavior. They have the following data: [[80, 20], [60, 40]]. Perform a Chi-Square test for independence with a significance level of 0.05.',\n",
       " 'id': 52914}"
      ]
     },
     "execution_count": 11,
     "metadata": {},
     "output_type": "execute_result"
    }
   ],
   "source": [
    "train_df[5]"
   ]
  },
  {
   "cell_type": "code",
   "execution_count": 12,
   "id": "bc31f98d-5efc-44d3-8540-94049dbe68bd",
   "metadata": {
    "execution": {
     "iopub.execute_input": "2025-09-26T13:14:41.438111Z",
     "iopub.status.busy": "2025-09-26T13:14:41.437828Z",
     "iopub.status.idle": "2025-09-26T13:14:41.441795Z",
     "shell.execute_reply": "2025-09-26T13:14:41.441304Z",
     "shell.execute_reply.started": "2025-09-26T13:14:41.438088Z"
    }
   },
   "outputs": [
    {
     "data": {
      "text/plain": [
       "Dataset({\n",
       "    features: ['tools', 'answers', 'query', 'id'],\n",
       "    num_rows: 489\n",
       "})"
      ]
     },
     "execution_count": 12,
     "metadata": {},
     "output_type": "execute_result"
    }
   ],
   "source": [
    "train_df"
   ]
  },
  {
   "cell_type": "code",
   "execution_count": 13,
   "id": "43aa010e-a8fc-44ea-b6ec-6fdc7ffab772",
   "metadata": {
    "execution": {
     "iopub.execute_input": "2025-09-26T13:14:42.398051Z",
     "iopub.status.busy": "2025-09-26T13:14:42.397787Z",
     "iopub.status.idle": "2025-09-26T13:14:42.402154Z",
     "shell.execute_reply": "2025-09-26T13:14:42.401700Z",
     "shell.execute_reply.started": "2025-09-26T13:14:42.398030Z"
    }
   },
   "outputs": [],
   "source": [
    "# Select the first 3 rows for testing\n",
    "small_sample = train_df.select(range(3))"
   ]
  },
  {
   "cell_type": "code",
   "execution_count": 14,
   "id": "2a1a1929-1692-4693-b1c9-4e34d43b73da",
   "metadata": {
    "execution": {
     "iopub.execute_input": "2025-09-26T13:14:43.429422Z",
     "iopub.status.busy": "2025-09-26T13:14:43.429187Z",
     "iopub.status.idle": "2025-09-26T13:14:43.432883Z",
     "shell.execute_reply": "2025-09-26T13:14:43.432424Z",
     "shell.execute_reply.started": "2025-09-26T13:14:43.429405Z"
    }
   },
   "outputs": [
    {
     "data": {
      "text/plain": [
       "Dataset({\n",
       "    features: ['tools', 'answers', 'query', 'id'],\n",
       "    num_rows: 3\n",
       "})"
      ]
     },
     "execution_count": 14,
     "metadata": {},
     "output_type": "execute_result"
    }
   ],
   "source": [
    "small_sample"
   ]
  },
  {
   "cell_type": "code",
   "execution_count": 45,
   "id": "65864476-8a60-4c79-ada3-ecd586d3e2fc",
   "metadata": {
    "execution": {
     "iopub.execute_input": "2025-09-26T16:19:55.175463Z",
     "iopub.status.busy": "2025-09-26T16:19:55.175198Z",
     "iopub.status.idle": "2025-09-26T16:19:55.178164Z",
     "shell.execute_reply": "2025-09-26T16:19:55.177645Z",
     "shell.execute_reply.started": "2025-09-26T16:19:55.175443Z"
    }
   },
   "outputs": [],
   "source": [
    "SYSTEM_PROMPT = \"You are a helpful assistant that uses the provided tools to answer.\""
   ]
  },
  {
   "cell_type": "code",
   "execution_count": 40,
   "id": "2c7d1f4a-99af-4f90-9019-9b9939b17784",
   "metadata": {
    "execution": {
     "iopub.execute_input": "2025-09-26T16:19:47.468478Z",
     "iopub.status.busy": "2025-09-26T16:19:47.468250Z",
     "iopub.status.idle": "2025-09-26T16:19:47.471234Z",
     "shell.execute_reply": "2025-09-26T16:19:47.470664Z",
     "shell.execute_reply.started": "2025-09-26T16:19:47.468462Z"
    }
   },
   "outputs": [],
   "source": [
    "sample = train_df[0]"
   ]
  },
  {
   "cell_type": "code",
   "execution_count": 41,
   "id": "63ae461d-6d0b-4a69-a57e-f549e94d9830",
   "metadata": {
    "execution": {
     "iopub.execute_input": "2025-09-26T16:19:48.361515Z",
     "iopub.status.busy": "2025-09-26T16:19:48.361245Z",
     "iopub.status.idle": "2025-09-26T16:19:48.365128Z",
     "shell.execute_reply": "2025-09-26T16:19:48.364633Z",
     "shell.execute_reply.started": "2025-09-26T16:19:48.361495Z"
    }
   },
   "outputs": [
    {
     "data": {
      "text/plain": [
       "{'tools': '[{\"name\": \"circle_area\", \"description\": \"Computes the area of a circle given its radius.\", \"parameters\": {\"radius\": {\"description\": \"The radius of the circle.\", \"type\": \"float\"}}}]',\n",
       " 'answers': '[{\"name\": \"circle_area\", \"arguments\": {\"radius\": 3.14}}, {\"name\": \"circle_area\", \"arguments\": {\"radius\": 6.28}}, {\"name\": \"circle_area\", \"arguments\": {\"radius\": 9.42}}]',\n",
       " 'query': \"Calculate the area of circles with radii 3.14 and 6.28. Oh, and don't forget one with radius 9.42, please.\",\n",
       " 'id': 52271}"
      ]
     },
     "execution_count": 41,
     "metadata": {},
     "output_type": "execute_result"
    }
   ],
   "source": [
    "sample"
   ]
  },
  {
   "cell_type": "code",
   "execution_count": 42,
   "id": "363faee1-39f9-443a-9aae-cefc5b6ca95e",
   "metadata": {
    "execution": {
     "iopub.execute_input": "2025-09-26T16:19:49.743219Z",
     "iopub.status.busy": "2025-09-26T16:19:49.742969Z",
     "iopub.status.idle": "2025-09-26T16:19:49.746860Z",
     "shell.execute_reply": "2025-09-26T16:19:49.746346Z",
     "shell.execute_reply.started": "2025-09-26T16:19:49.743201Z"
    }
   },
   "outputs": [
    {
     "data": {
      "text/plain": [
       "'[{\"name\": \"circle_area\", \"description\": \"Computes the area of a circle given its radius.\", \"parameters\": {\"radius\": {\"description\": \"The radius of the circle.\", \"type\": \"float\"}}}]'"
      ]
     },
     "execution_count": 42,
     "metadata": {},
     "output_type": "execute_result"
    }
   ],
   "source": [
    "sample[\"tools\"]"
   ]
  },
  {
   "cell_type": "code",
   "execution_count": 43,
   "id": "106b8246-d915-41ea-9687-3151696ec459",
   "metadata": {
    "execution": {
     "iopub.execute_input": "2025-09-26T16:19:50.890620Z",
     "iopub.status.busy": "2025-09-26T16:19:50.890292Z",
     "iopub.status.idle": "2025-09-26T16:19:50.897373Z",
     "shell.execute_reply": "2025-09-26T16:19:50.896928Z",
     "shell.execute_reply.started": "2025-09-26T16:19:50.890595Z"
    }
   },
   "outputs": [],
   "source": [
    "test_df = pd.read_csv(\"./data/test_dataset.csv\")"
   ]
  },
  {
   "cell_type": "code",
   "execution_count": 44,
   "id": "500bf5b5-4f91-4887-a589-6f24ab62de9a",
   "metadata": {
    "execution": {
     "iopub.execute_input": "2025-09-26T16:19:51.599665Z",
     "iopub.status.busy": "2025-09-26T16:19:51.599398Z",
     "iopub.status.idle": "2025-09-26T16:19:51.607748Z",
     "shell.execute_reply": "2025-09-26T16:19:51.607192Z",
     "shell.execute_reply.started": "2025-09-26T16:19:51.599645Z"
    }
   },
   "outputs": [],
   "source": [
    "test_df = Dataset.from_pandas(test_df)"
   ]
  },
  {
   "cell_type": "code",
   "execution_count": 21,
   "id": "d75607a1-0813-4abb-be7f-3bee6230792b",
   "metadata": {
    "execution": {
     "iopub.execute_input": "2025-09-26T13:14:52.160308Z",
     "iopub.status.busy": "2025-09-26T13:14:52.159996Z",
     "iopub.status.idle": "2025-09-26T13:14:52.163144Z",
     "shell.execute_reply": "2025-09-26T13:14:52.162626Z",
     "shell.execute_reply.started": "2025-09-26T13:14:52.160285Z"
    }
   },
   "outputs": [],
   "source": [
    "sample = test_df[0]"
   ]
  },
  {
   "cell_type": "code",
   "execution_count": 48,
   "id": "40c33e9c-99ed-4854-b68c-3af36fecd97f",
   "metadata": {
    "execution": {
     "iopub.execute_input": "2025-09-26T16:21:04.591656Z",
     "iopub.status.busy": "2025-09-26T16:21:04.591376Z",
     "iopub.status.idle": "2025-09-26T16:21:04.596250Z",
     "shell.execute_reply": "2025-09-26T16:21:04.595701Z",
     "shell.execute_reply.started": "2025-09-26T16:21:04.591633Z"
    }
   },
   "outputs": [
    {
     "name": "stdout",
     "output_type": "stream",
     "text": [
      "<|im_start|>system\n",
      "You are a helpful assistant that uses the provided tools to answer.\n",
      "\n",
      "# Tools\n",
      "\n",
      "You may call one or more functions to assist with the user query.\n",
      "\n",
      "You are provided with function signatures within <tools></tools> XML tags:\n",
      "<tools>\n",
      "{\"name\": \"circle_area\", \"description\": \"Computes the area of a circle given its radius.\", \"parameters\": {\"radius\": {\"description\": \"The radius of the circle.\", \"type\": \"float\"}}}\n",
      "</tools>\n",
      "\n",
      "For each function call, return a json object with function name and arguments within <tool_call></tool_call> XML tags:\n",
      "<tool_call>\n",
      "{\"name\": <function-name>, \"arguments\": <args-json-object>}\n",
      "</tool_call><|im_end|>\n",
      "<|im_start|>user\n",
      "Calculate the area of circles with radii 3.14 and 6.28. Oh, and don't forget one with radius 9.42, please.<|im_end|>\n",
      "<|im_start|>assistant\n",
      "<think>\n",
      "\n",
      "</think>\n",
      "\n",
      "<tool_call>\n",
      "{\"name\": \"circle_area\", \"arguments\": {\"radius\": 3.14}}\n",
      "</tool_call>\n",
      "<tool_call>\n",
      "{\"name\": \"circle_area\", \"arguments\": {\"radius\": 6.28}}\n",
      "</tool_call>\n",
      "<tool_call>\n",
      "{\"name\": \"circle_area\", \"arguments\": {\"radius\": 9.42}}\n",
      "</tool_call><|im_end|>\n",
      "\n"
     ]
    }
   ],
   "source": [
    "    query = sample['query']\n",
    "    tools = json.loads(sample['tools'])\n",
    "    expected_calls = json.loads(sample['answers'])\n",
    "                               \n",
    "    messages = [\n",
    "        {\"role\" : \"system\", \"content\": SYSTEM_PROMPT},\n",
    "        {\"role\": \"user\", \"content\": query}, \n",
    "        {\"role\": \"assistant\", \"tool_calls\": expected_calls},\n",
    "    ]\n",
    "    \n",
    "    texts = tokenizer.apply_chat_template(messages, tools = tools, tokenize=False, add_generation_prompt=False)\n",
    "    print(texts)"
   ]
  },
  {
   "cell_type": "code",
   "execution_count": 23,
   "id": "74d5b872-a067-4b51-b7ac-df9d9e458359",
   "metadata": {
    "execution": {
     "iopub.execute_input": "2025-09-26T13:14:58.014494Z",
     "iopub.status.busy": "2025-09-26T13:14:58.014243Z",
     "iopub.status.idle": "2025-09-26T13:14:58.018502Z",
     "shell.execute_reply": "2025-09-26T13:14:58.018009Z",
     "shell.execute_reply.started": "2025-09-26T13:14:58.014475Z"
    }
   },
   "outputs": [
    {
     "name": "stdout",
     "output_type": "stream",
     "text": [
      "<|im_start|>system\n",
      "You are a helpful assistant that uses the provided tools to answer.\n",
      "\n",
      "# Tools\n",
      "\n",
      "You may call one or more functions to assist with the user query.\n",
      "\n",
      "You are provided with function signatures within <tools></tools> XML tags:\n",
      "<tools>\n",
      "{\"name\": \"circle_area\", \"description\": \"Computes the area of a circle given its radius.\", \"parameters\": {\"radius\": {\"description\": \"The radius of the circle.\", \"type\": \"float\"}}}\n",
      "</tools>\n",
      "\n",
      "For each function call, return a json object with function name and arguments within <tool_call></tool_call> XML tags:\n",
      "<tool_call>\n",
      "{\"name\": <function-name>, \"arguments\": <args-json-object>}\n",
      "</tool_call><|im_end|>\n",
      "<|im_start|>user\n",
      "I have a circle with a radius of 6. How do I calculate its area? Also, if the radius is 10, what would be the area?<|im_end|>\n",
      "<|im_start|>assistant\n",
      "<think>\n",
      "\n",
      "</think>\n",
      "\n",
      "<tool_call>\n",
      "{\"name\": \"circle_area\", \"arguments\": {\"radius\": 6}}\n",
      "</tool_call>\n",
      "<tool_call>\n",
      "{\"name\": \"circle_area\", \"arguments\": {\"radius\": 10}}\n",
      "</tool_call><|im_end|>\n",
      "\n"
     ]
    }
   ],
   "source": [
    "    query = sample['query']\n",
    "    tools = json.loads(sample['tools'])\n",
    "    expected_calls = json.loads(sample['answers'])\n",
    "                               \n",
    "    messages = [\n",
    "        {\"role\" : \"system\", \"content\": SYSTEM_PROMPT},\n",
    "        {\"role\": \"user\", \"content\": query}, \n",
    "        {\"role\": \"assistant\", \"tool_calls\": expected_calls},\n",
    "    ]\n",
    "    \n",
    "    texts = tokenizer.apply_chat_template(messages, tools = tools, tokenize=False, add_generation_prompt=False)\n",
    "    print(texts)"
   ]
  },
  {
   "cell_type": "code",
   "execution_count": 27,
   "id": "e36d6748-34ad-4678-afbe-01b28c3bf786",
   "metadata": {
    "execution": {
     "iopub.execute_input": "2025-09-26T13:16:32.291167Z",
     "iopub.status.busy": "2025-09-26T13:16:32.290924Z",
     "iopub.status.idle": "2025-09-26T13:16:32.294391Z",
     "shell.execute_reply": "2025-09-26T13:16:32.293852Z",
     "shell.execute_reply.started": "2025-09-26T13:16:32.291150Z"
    }
   },
   "outputs": [],
   "source": [
    "def format_dataset(example):\n",
    "    query = example['query']\n",
    "    tools = json.loads(example['tools'])\n",
    "    expected_calls = json.loads(example['answers'])\n",
    "                               \n",
    "    messages = [\n",
    "        {\"role\" : \"system\", \"content\": SYSTEM_PROMPT},\n",
    "        {\"role\": \"user\", \"content\": query}, \n",
    "        {\"role\": \"assistant\", \"tool_calls\": expected_calls},\n",
    "    ]\n",
    "    \n",
    "    texts = tokenizer.apply_chat_template(messages,tools = tools, tokenize=False, add_generation_prompt=False)\n",
    "    #print(texts)\n",
    "    return {\"text\": texts}"
   ]
  },
  {
   "cell_type": "code",
   "execution_count": 28,
   "id": "a1439042-29f5-43cd-a90e-dbf5a7171674",
   "metadata": {
    "execution": {
     "iopub.execute_input": "2025-09-26T13:16:33.076598Z",
     "iopub.status.busy": "2025-09-26T13:16:33.076357Z",
     "iopub.status.idle": "2025-09-26T13:16:35.408411Z",
     "shell.execute_reply": "2025-09-26T13:16:35.407855Z",
     "shell.execute_reply.started": "2025-09-26T13:16:33.076580Z"
    }
   },
   "outputs": [
    {
     "data": {
      "application/vnd.jupyter.widget-view+json": {
       "model_id": "5d869d41e57e433787c93438e7bd41a4",
       "version_major": 2,
       "version_minor": 0
      },
      "text/plain": [
       "Map:   0%|          | 0/489 [00:00<?, ? examples/s]"
      ]
     },
     "metadata": {},
     "output_type": "display_data"
    }
   ],
   "source": [
    "formatted_train = train_df.map(format_dataset, remove_columns=train_df.column_names) "
   ]
  },
  {
   "cell_type": "code",
   "execution_count": 29,
   "id": "150b3f97-606e-406b-b69b-ac8d469f71b5",
   "metadata": {
    "execution": {
     "iopub.execute_input": "2025-09-26T13:17:26.307199Z",
     "iopub.status.busy": "2025-09-26T13:17:26.306940Z",
     "iopub.status.idle": "2025-09-26T13:17:26.311237Z",
     "shell.execute_reply": "2025-09-26T13:17:26.310728Z",
     "shell.execute_reply.started": "2025-09-26T13:17:26.307179Z"
    }
   },
   "outputs": [
    {
     "data": {
      "text/plain": [
       "'<|im_start|>system\\nYou are a helpful assistant that uses the provided tools to answer.\\n\\n# Tools\\n\\nYou may call one or more functions to assist with the user query.\\n\\nYou are provided with function signatures within <tools></tools> XML tags:\\n<tools>\\n{\"name\": \"circle_area\", \"description\": \"Computes the area of a circle given its radius.\", \"parameters\": {\"radius\": {\"description\": \"The radius of the circle.\", \"type\": \"float\"}}}\\n</tools>\\n\\nFor each function call, return a json object with function name and arguments within <tool_call></tool_call> XML tags:\\n<tool_call>\\n{\"name\": <function-name>, \"arguments\": <args-json-object>}\\n</tool_call><|im_end|>\\n<|im_start|>user\\nCalculate the area of circles with radii 3.14 and 6.28. Oh, and don\\'t forget one with radius 9.42, please.<|im_end|>\\n<|im_start|>assistant\\n<think>\\n\\n</think>\\n\\n<tool_call>\\n{\"name\": \"circle_area\", \"arguments\": {\"radius\": 3.14}}\\n</tool_call>\\n<tool_call>\\n{\"name\": \"circle_area\", \"arguments\": {\"radius\": 6.28}}\\n</tool_call>\\n<tool_call>\\n{\"name\": \"circle_area\", \"arguments\": {\"radius\": 9.42}}\\n</tool_call><|im_end|>\\n'"
      ]
     },
     "execution_count": 29,
     "metadata": {},
     "output_type": "execute_result"
    }
   ],
   "source": [
    "formatted_train[0]['text']"
   ]
  },
  {
   "cell_type": "code",
   "execution_count": 30,
   "id": "16849a93-b36d-4e33-897e-a8affd3b6f44",
   "metadata": {
    "execution": {
     "iopub.execute_input": "2025-09-26T13:18:26.116918Z",
     "iopub.status.busy": "2025-09-26T13:18:26.116679Z",
     "iopub.status.idle": "2025-09-26T13:18:26.119948Z",
     "shell.execute_reply": "2025-09-26T13:18:26.119413Z",
     "shell.execute_reply.started": "2025-09-26T13:18:26.116898Z"
    }
   },
   "outputs": [],
   "source": [
    "from peft import LoraConfig\n",
    "lora_config = LoraConfig(\n",
    "    r=8,\n",
    "    lora_alpha=32,\n",
    "    target_modules=[\n",
    "        \"q_proj\",\n",
    "        \"v_proj\",\n",
    "        \"o_proj\",\n",
    "        \"k_proj\",\n",
    "        \"up_proj\",\n",
    "        \"down_proj\",\n",
    "        \"gate_proj\",\n",
    "    ],\n",
    "    bias=\"none\",\n",
    "    task_type=\"CAUSAL_LM\",\n",
    ")"
   ]
  },
  {
   "cell_type": "code",
   "execution_count": 31,
   "id": "f73f3a92-8d85-4263-b963-956b59fa443b",
   "metadata": {
    "execution": {
     "iopub.execute_input": "2025-09-26T13:18:27.569916Z",
     "iopub.status.busy": "2025-09-26T13:18:27.569678Z",
     "iopub.status.idle": "2025-09-26T13:18:27.854911Z",
     "shell.execute_reply": "2025-09-26T13:18:27.854304Z",
     "shell.execute_reply.started": "2025-09-26T13:18:27.569897Z"
    }
   },
   "outputs": [],
   "source": [
    "model.add_adapter(lora_config, adapter_name=\"lora_1\")"
   ]
  },
  {
   "cell_type": "code",
   "execution_count": 32,
   "id": "059162cc-9497-4007-9918-c85d50d3e7b7",
   "metadata": {
    "execution": {
     "iopub.execute_input": "2025-09-26T13:18:28.855612Z",
     "iopub.status.busy": "2025-09-26T13:18:28.855340Z",
     "iopub.status.idle": "2025-09-26T13:18:28.864901Z",
     "shell.execute_reply": "2025-09-26T13:18:28.864319Z",
     "shell.execute_reply.started": "2025-09-26T13:18:28.855593Z"
    }
   },
   "outputs": [],
   "source": [
    "model.gradient_checkpointing_enable()\n"
   ]
  },
  {
   "cell_type": "code",
   "execution_count": 34,
   "id": "99af3750-0c65-43dc-a319-1e967645a9ea",
   "metadata": {
    "execution": {
     "iopub.execute_input": "2025-09-26T13:22:25.058340Z",
     "iopub.status.busy": "2025-09-26T13:22:25.058110Z",
     "iopub.status.idle": "2025-09-26T13:22:25.061869Z",
     "shell.execute_reply": "2025-09-26T13:22:25.061368Z",
     "shell.execute_reply.started": "2025-09-26T13:22:25.058324Z"
    }
   },
   "outputs": [
    {
     "data": {
      "text/plain": [
       "'<|im_end|>'"
      ]
     },
     "execution_count": 34,
     "metadata": {},
     "output_type": "execute_result"
    }
   ],
   "source": [
    "tokenizer.eos_token"
   ]
  },
  {
   "cell_type": "code",
   "execution_count": 37,
   "id": "c2f89386-63a9-4ed5-a636-0c48d2e98dcb",
   "metadata": {
    "execution": {
     "iopub.execute_input": "2025-09-26T13:27:02.132156Z",
     "iopub.status.busy": "2025-09-26T13:27:02.131869Z",
     "iopub.status.idle": "2025-09-26T13:37:13.110335Z",
     "shell.execute_reply": "2025-09-26T13:37:13.109793Z",
     "shell.execute_reply.started": "2025-09-26T13:27:02.132135Z"
    }
   },
   "outputs": [
    {
     "data": {
      "application/vnd.jupyter.widget-view+json": {
       "model_id": "6dc8238d65e04d9ba263cf4b6cc153c4",
       "version_major": 2,
       "version_minor": 0
      },
      "text/plain": [
       "Adding EOS to train dataset:   0%|          | 0/489 [00:00<?, ? examples/s]"
      ]
     },
     "metadata": {},
     "output_type": "display_data"
    },
    {
     "data": {
      "application/vnd.jupyter.widget-view+json": {
       "model_id": "8a03c7275f8646fea7d98b09252631b6",
       "version_major": 2,
       "version_minor": 0
      },
      "text/plain": [
       "Tokenizing train dataset:   0%|          | 0/489 [00:00<?, ? examples/s]"
      ]
     },
     "metadata": {},
     "output_type": "display_data"
    },
    {
     "data": {
      "application/vnd.jupyter.widget-view+json": {
       "model_id": "44e8edf42a894f29854755d56a498567",
       "version_major": 2,
       "version_minor": 0
      },
      "text/plain": [
       "Truncating train dataset:   0%|          | 0/489 [00:00<?, ? examples/s]"
      ]
     },
     "metadata": {},
     "output_type": "display_data"
    },
    {
     "data": {
      "text/html": [
       "\n",
       "    <div>\n",
       "      \n",
       "      <progress value='186' max='186' style='width:300px; height:20px; vertical-align: middle;'></progress>\n",
       "      [186/186 10:05, Epoch 3/3]\n",
       "    </div>\n",
       "    <table border=\"1\" class=\"dataframe\">\n",
       "  <thead>\n",
       " <tr style=\"text-align: left;\">\n",
       "      <th>Step</th>\n",
       "      <th>Training Loss</th>\n",
       "    </tr>\n",
       "  </thead>\n",
       "  <tbody>\n",
       "    <tr>\n",
       "      <td>10</td>\n",
       "      <td>1.669200</td>\n",
       "    </tr>\n",
       "    <tr>\n",
       "      <td>20</td>\n",
       "      <td>0.876000</td>\n",
       "    </tr>\n",
       "    <tr>\n",
       "      <td>30</td>\n",
       "      <td>0.559600</td>\n",
       "    </tr>\n",
       "    <tr>\n",
       "      <td>40</td>\n",
       "      <td>0.442600</td>\n",
       "    </tr>\n",
       "    <tr>\n",
       "      <td>50</td>\n",
       "      <td>0.380000</td>\n",
       "    </tr>\n",
       "    <tr>\n",
       "      <td>60</td>\n",
       "      <td>0.335400</td>\n",
       "    </tr>\n",
       "    <tr>\n",
       "      <td>70</td>\n",
       "      <td>0.298200</td>\n",
       "    </tr>\n",
       "    <tr>\n",
       "      <td>80</td>\n",
       "      <td>0.257700</td>\n",
       "    </tr>\n",
       "    <tr>\n",
       "      <td>90</td>\n",
       "      <td>0.242000</td>\n",
       "    </tr>\n",
       "    <tr>\n",
       "      <td>100</td>\n",
       "      <td>0.213900</td>\n",
       "    </tr>\n",
       "    <tr>\n",
       "      <td>110</td>\n",
       "      <td>0.222500</td>\n",
       "    </tr>\n",
       "    <tr>\n",
       "      <td>120</td>\n",
       "      <td>0.193900</td>\n",
       "    </tr>\n",
       "    <tr>\n",
       "      <td>130</td>\n",
       "      <td>0.196800</td>\n",
       "    </tr>\n",
       "    <tr>\n",
       "      <td>140</td>\n",
       "      <td>0.190900</td>\n",
       "    </tr>\n",
       "    <tr>\n",
       "      <td>150</td>\n",
       "      <td>0.177300</td>\n",
       "    </tr>\n",
       "    <tr>\n",
       "      <td>160</td>\n",
       "      <td>0.179300</td>\n",
       "    </tr>\n",
       "    <tr>\n",
       "      <td>170</td>\n",
       "      <td>0.180400</td>\n",
       "    </tr>\n",
       "    <tr>\n",
       "      <td>180</td>\n",
       "      <td>0.187900</td>\n",
       "    </tr>\n",
       "  </tbody>\n",
       "</table><p>"
      ],
      "text/plain": [
       "<IPython.core.display.HTML object>"
      ]
     },
     "metadata": {},
     "output_type": "display_data"
    },
    {
     "data": {
      "text/plain": [
       "('./qwen3-function-calling-ft-completions-only/tokenizer_config.json',\n",
       " './qwen3-function-calling-ft-completions-only/special_tokens_map.json',\n",
       " './qwen3-function-calling-ft-completions-only/chat_template.jinja',\n",
       " './qwen3-function-calling-ft-completions-only/vocab.json',\n",
       " './qwen3-function-calling-ft-completions-only/merges.txt',\n",
       " './qwen3-function-calling-ft-completions-only/added_tokens.json')"
      ]
     },
     "execution_count": 37,
     "metadata": {},
     "output_type": "execute_result"
    }
   ],
   "source": [
    "from trl import SFTConfig\n",
    "\n",
    "training_args = SFTConfig(\n",
    "    output_dir=\"./qwen3-function-calling-ft-completions-only\",\n",
    "    max_length=16384, \n",
    "    completion_only_loss=True,\n",
    "    per_device_train_batch_size=2,\n",
    "    gradient_accumulation_steps=4,\n",
    "    num_train_epochs=3,\n",
    "    logging_dir=\"./logs\",\n",
    "    logging_steps=10,\n",
    "    save_strategy=\"epoch\",\n",
    "    save_total_limit=2,\n",
    "    fp16=True,\n",
    "    bf16=False,\n",
    "    report_to=\"none\"\n",
    ")\n",
    "\n",
    "# ✅ SFTTrainer Configuration\n",
    "trainer = SFTTrainer(\n",
    "    model=model,\n",
    "    train_dataset= formatted_train,\n",
    "    formatting_func=None,  # optional: custom formatting for messages\n",
    "    args=training_args\n",
    ")\n",
    "\n",
    "# ✅ Start Training\n",
    "trainer.train()\n",
    "\n",
    "# ✅ Save Model\n",
    "trainer.save_model(\"./qwen3-function-calling-ft-completions-only\")\n",
    "tokenizer.save_pretrained(\"./qwen3-function-calling-ft-completions-only\")"
   ]
  },
  {
   "cell_type": "code",
   "execution_count": 38,
   "id": "1563ae53-6e0b-49a1-9211-fd19d645fd51",
   "metadata": {
    "execution": {
     "iopub.execute_input": "2025-09-26T13:37:21.046830Z",
     "iopub.status.busy": "2025-09-26T13:37:21.046561Z",
     "iopub.status.idle": "2025-09-26T13:37:21.058790Z",
     "shell.execute_reply": "2025-09-26T13:37:21.058309Z",
     "shell.execute_reply.started": "2025-09-26T13:37:21.046810Z"
    }
   },
   "outputs": [
    {
     "data": {
      "text/plain": [
       "Qwen3ForCausalLM(\n",
       "  (model): Qwen3Model(\n",
       "    (embed_tokens): Embedding(151936, 2560)\n",
       "    (layers): ModuleList(\n",
       "      (0-35): 36 x Qwen3DecoderLayer(\n",
       "        (self_attn): Qwen3Attention(\n",
       "          (q_proj): lora.Linear8bitLt(\n",
       "            (base_layer): Linear8bitLt(in_features=2560, out_features=4096, bias=False)\n",
       "            (lora_dropout): ModuleDict(\n",
       "              (lora_1): Identity()\n",
       "            )\n",
       "            (lora_A): ModuleDict(\n",
       "              (lora_1): Linear(in_features=2560, out_features=8, bias=False)\n",
       "            )\n",
       "            (lora_B): ModuleDict(\n",
       "              (lora_1): Linear(in_features=8, out_features=4096, bias=False)\n",
       "            )\n",
       "            (lora_embedding_A): ParameterDict()\n",
       "            (lora_embedding_B): ParameterDict()\n",
       "            (lora_magnitude_vector): ModuleDict()\n",
       "          )\n",
       "          (k_proj): lora.Linear8bitLt(\n",
       "            (base_layer): Linear8bitLt(in_features=2560, out_features=1024, bias=False)\n",
       "            (lora_dropout): ModuleDict(\n",
       "              (lora_1): Identity()\n",
       "            )\n",
       "            (lora_A): ModuleDict(\n",
       "              (lora_1): Linear(in_features=2560, out_features=8, bias=False)\n",
       "            )\n",
       "            (lora_B): ModuleDict(\n",
       "              (lora_1): Linear(in_features=8, out_features=1024, bias=False)\n",
       "            )\n",
       "            (lora_embedding_A): ParameterDict()\n",
       "            (lora_embedding_B): ParameterDict()\n",
       "            (lora_magnitude_vector): ModuleDict()\n",
       "          )\n",
       "          (v_proj): lora.Linear8bitLt(\n",
       "            (base_layer): Linear8bitLt(in_features=2560, out_features=1024, bias=False)\n",
       "            (lora_dropout): ModuleDict(\n",
       "              (lora_1): Identity()\n",
       "            )\n",
       "            (lora_A): ModuleDict(\n",
       "              (lora_1): Linear(in_features=2560, out_features=8, bias=False)\n",
       "            )\n",
       "            (lora_B): ModuleDict(\n",
       "              (lora_1): Linear(in_features=8, out_features=1024, bias=False)\n",
       "            )\n",
       "            (lora_embedding_A): ParameterDict()\n",
       "            (lora_embedding_B): ParameterDict()\n",
       "            (lora_magnitude_vector): ModuleDict()\n",
       "          )\n",
       "          (o_proj): lora.Linear8bitLt(\n",
       "            (base_layer): Linear8bitLt(in_features=4096, out_features=2560, bias=False)\n",
       "            (lora_dropout): ModuleDict(\n",
       "              (lora_1): Identity()\n",
       "            )\n",
       "            (lora_A): ModuleDict(\n",
       "              (lora_1): Linear(in_features=4096, out_features=8, bias=False)\n",
       "            )\n",
       "            (lora_B): ModuleDict(\n",
       "              (lora_1): Linear(in_features=8, out_features=2560, bias=False)\n",
       "            )\n",
       "            (lora_embedding_A): ParameterDict()\n",
       "            (lora_embedding_B): ParameterDict()\n",
       "            (lora_magnitude_vector): ModuleDict()\n",
       "          )\n",
       "          (q_norm): Qwen3RMSNorm((128,), eps=1e-06)\n",
       "          (k_norm): Qwen3RMSNorm((128,), eps=1e-06)\n",
       "        )\n",
       "        (mlp): Qwen3MLP(\n",
       "          (gate_proj): lora.Linear8bitLt(\n",
       "            (base_layer): Linear8bitLt(in_features=2560, out_features=9728, bias=False)\n",
       "            (lora_dropout): ModuleDict(\n",
       "              (lora_1): Identity()\n",
       "            )\n",
       "            (lora_A): ModuleDict(\n",
       "              (lora_1): Linear(in_features=2560, out_features=8, bias=False)\n",
       "            )\n",
       "            (lora_B): ModuleDict(\n",
       "              (lora_1): Linear(in_features=8, out_features=9728, bias=False)\n",
       "            )\n",
       "            (lora_embedding_A): ParameterDict()\n",
       "            (lora_embedding_B): ParameterDict()\n",
       "            (lora_magnitude_vector): ModuleDict()\n",
       "          )\n",
       "          (up_proj): lora.Linear8bitLt(\n",
       "            (base_layer): Linear8bitLt(in_features=2560, out_features=9728, bias=False)\n",
       "            (lora_dropout): ModuleDict(\n",
       "              (lora_1): Identity()\n",
       "            )\n",
       "            (lora_A): ModuleDict(\n",
       "              (lora_1): Linear(in_features=2560, out_features=8, bias=False)\n",
       "            )\n",
       "            (lora_B): ModuleDict(\n",
       "              (lora_1): Linear(in_features=8, out_features=9728, bias=False)\n",
       "            )\n",
       "            (lora_embedding_A): ParameterDict()\n",
       "            (lora_embedding_B): ParameterDict()\n",
       "            (lora_magnitude_vector): ModuleDict()\n",
       "          )\n",
       "          (down_proj): lora.Linear8bitLt(\n",
       "            (base_layer): Linear8bitLt(in_features=9728, out_features=2560, bias=False)\n",
       "            (lora_dropout): ModuleDict(\n",
       "              (lora_1): Identity()\n",
       "            )\n",
       "            (lora_A): ModuleDict(\n",
       "              (lora_1): Linear(in_features=9728, out_features=8, bias=False)\n",
       "            )\n",
       "            (lora_B): ModuleDict(\n",
       "              (lora_1): Linear(in_features=8, out_features=2560, bias=False)\n",
       "            )\n",
       "            (lora_embedding_A): ParameterDict()\n",
       "            (lora_embedding_B): ParameterDict()\n",
       "            (lora_magnitude_vector): ModuleDict()\n",
       "          )\n",
       "          (act_fn): SiLU()\n",
       "        )\n",
       "        (input_layernorm): Qwen3RMSNorm((2560,), eps=1e-06)\n",
       "        (post_attention_layernorm): Qwen3RMSNorm((2560,), eps=1e-06)\n",
       "      )\n",
       "    )\n",
       "    (norm): Qwen3RMSNorm((2560,), eps=1e-06)\n",
       "    (rotary_emb): Qwen3RotaryEmbedding()\n",
       "  )\n",
       "  (lm_head): Linear(in_features=2560, out_features=151936, bias=False)\n",
       ")"
      ]
     },
     "execution_count": 38,
     "metadata": {},
     "output_type": "execute_result"
    }
   ],
   "source": [
    "model"
   ]
  },
  {
   "cell_type": "code",
   "execution_count": 27,
   "id": "5280261f-f70c-4a8a-b579-2378038385bb",
   "metadata": {
    "execution": {
     "iopub.execute_input": "2025-09-22T15:13:04.831352Z",
     "iopub.status.busy": "2025-09-22T15:13:04.831142Z",
     "iopub.status.idle": "2025-09-22T15:13:04.841317Z",
     "shell.execute_reply": "2025-09-22T15:13:04.840849Z",
     "shell.execute_reply.started": "2025-09-22T15:13:04.831333Z"
    }
   },
   "outputs": [
    {
     "data": {
      "text/plain": [
       "Qwen3ForCausalLM(\n",
       "  (model): Qwen3Model(\n",
       "    (embed_tokens): Embedding(151936, 2560)\n",
       "    (layers): ModuleList(\n",
       "      (0-35): 36 x Qwen3DecoderLayer(\n",
       "        (self_attn): Qwen3Attention(\n",
       "          (q_proj): lora.Linear8bitLt(\n",
       "            (base_layer): Linear8bitLt(in_features=2560, out_features=4096, bias=False)\n",
       "            (lora_dropout): ModuleDict(\n",
       "              (lora_1): Identity()\n",
       "            )\n",
       "            (lora_A): ModuleDict(\n",
       "              (lora_1): Linear(in_features=2560, out_features=8, bias=False)\n",
       "            )\n",
       "            (lora_B): ModuleDict(\n",
       "              (lora_1): Linear(in_features=8, out_features=4096, bias=False)\n",
       "            )\n",
       "            (lora_embedding_A): ParameterDict()\n",
       "            (lora_embedding_B): ParameterDict()\n",
       "            (lora_magnitude_vector): ModuleDict()\n",
       "          )\n",
       "          (k_proj): lora.Linear8bitLt(\n",
       "            (base_layer): Linear8bitLt(in_features=2560, out_features=1024, bias=False)\n",
       "            (lora_dropout): ModuleDict(\n",
       "              (lora_1): Identity()\n",
       "            )\n",
       "            (lora_A): ModuleDict(\n",
       "              (lora_1): Linear(in_features=2560, out_features=8, bias=False)\n",
       "            )\n",
       "            (lora_B): ModuleDict(\n",
       "              (lora_1): Linear(in_features=8, out_features=1024, bias=False)\n",
       "            )\n",
       "            (lora_embedding_A): ParameterDict()\n",
       "            (lora_embedding_B): ParameterDict()\n",
       "            (lora_magnitude_vector): ModuleDict()\n",
       "          )\n",
       "          (v_proj): lora.Linear8bitLt(\n",
       "            (base_layer): Linear8bitLt(in_features=2560, out_features=1024, bias=False)\n",
       "            (lora_dropout): ModuleDict(\n",
       "              (lora_1): Identity()\n",
       "            )\n",
       "            (lora_A): ModuleDict(\n",
       "              (lora_1): Linear(in_features=2560, out_features=8, bias=False)\n",
       "            )\n",
       "            (lora_B): ModuleDict(\n",
       "              (lora_1): Linear(in_features=8, out_features=1024, bias=False)\n",
       "            )\n",
       "            (lora_embedding_A): ParameterDict()\n",
       "            (lora_embedding_B): ParameterDict()\n",
       "            (lora_magnitude_vector): ModuleDict()\n",
       "          )\n",
       "          (o_proj): lora.Linear8bitLt(\n",
       "            (base_layer): Linear8bitLt(in_features=4096, out_features=2560, bias=False)\n",
       "            (lora_dropout): ModuleDict(\n",
       "              (lora_1): Identity()\n",
       "            )\n",
       "            (lora_A): ModuleDict(\n",
       "              (lora_1): Linear(in_features=4096, out_features=8, bias=False)\n",
       "            )\n",
       "            (lora_B): ModuleDict(\n",
       "              (lora_1): Linear(in_features=8, out_features=2560, bias=False)\n",
       "            )\n",
       "            (lora_embedding_A): ParameterDict()\n",
       "            (lora_embedding_B): ParameterDict()\n",
       "            (lora_magnitude_vector): ModuleDict()\n",
       "          )\n",
       "          (q_norm): Qwen3RMSNorm((128,), eps=1e-06)\n",
       "          (k_norm): Qwen3RMSNorm((128,), eps=1e-06)\n",
       "        )\n",
       "        (mlp): Qwen3MLP(\n",
       "          (gate_proj): lora.Linear8bitLt(\n",
       "            (base_layer): Linear8bitLt(in_features=2560, out_features=9728, bias=False)\n",
       "            (lora_dropout): ModuleDict(\n",
       "              (lora_1): Identity()\n",
       "            )\n",
       "            (lora_A): ModuleDict(\n",
       "              (lora_1): Linear(in_features=2560, out_features=8, bias=False)\n",
       "            )\n",
       "            (lora_B): ModuleDict(\n",
       "              (lora_1): Linear(in_features=8, out_features=9728, bias=False)\n",
       "            )\n",
       "            (lora_embedding_A): ParameterDict()\n",
       "            (lora_embedding_B): ParameterDict()\n",
       "            (lora_magnitude_vector): ModuleDict()\n",
       "          )\n",
       "          (up_proj): lora.Linear8bitLt(\n",
       "            (base_layer): Linear8bitLt(in_features=2560, out_features=9728, bias=False)\n",
       "            (lora_dropout): ModuleDict(\n",
       "              (lora_1): Identity()\n",
       "            )\n",
       "            (lora_A): ModuleDict(\n",
       "              (lora_1): Linear(in_features=2560, out_features=8, bias=False)\n",
       "            )\n",
       "            (lora_B): ModuleDict(\n",
       "              (lora_1): Linear(in_features=8, out_features=9728, bias=False)\n",
       "            )\n",
       "            (lora_embedding_A): ParameterDict()\n",
       "            (lora_embedding_B): ParameterDict()\n",
       "            (lora_magnitude_vector): ModuleDict()\n",
       "          )\n",
       "          (down_proj): lora.Linear8bitLt(\n",
       "            (base_layer): Linear8bitLt(in_features=9728, out_features=2560, bias=False)\n",
       "            (lora_dropout): ModuleDict(\n",
       "              (lora_1): Identity()\n",
       "            )\n",
       "            (lora_A): ModuleDict(\n",
       "              (lora_1): Linear(in_features=9728, out_features=8, bias=False)\n",
       "            )\n",
       "            (lora_B): ModuleDict(\n",
       "              (lora_1): Linear(in_features=8, out_features=2560, bias=False)\n",
       "            )\n",
       "            (lora_embedding_A): ParameterDict()\n",
       "            (lora_embedding_B): ParameterDict()\n",
       "            (lora_magnitude_vector): ModuleDict()\n",
       "          )\n",
       "          (act_fn): SiLU()\n",
       "        )\n",
       "        (input_layernorm): Qwen3RMSNorm((2560,), eps=1e-06)\n",
       "        (post_attention_layernorm): Qwen3RMSNorm((2560,), eps=1e-06)\n",
       "      )\n",
       "    )\n",
       "    (norm): Qwen3RMSNorm((2560,), eps=1e-06)\n",
       "    (rotary_emb): Qwen3RotaryEmbedding()\n",
       "  )\n",
       "  (lm_head): Linear(in_features=2560, out_features=151936, bias=False)\n",
       ")"
      ]
     },
     "execution_count": 27,
     "metadata": {},
     "output_type": "execute_result"
    }
   ],
   "source": [
    "model"
   ]
  },
  {
   "cell_type": "code",
   "execution_count": 28,
   "id": "cbf0917f-15ea-44c5-bfbf-036da4acfa86",
   "metadata": {
    "execution": {
     "iopub.execute_input": "2025-09-22T15:24:40.966333Z",
     "iopub.status.busy": "2025-09-22T15:24:40.966119Z",
     "iopub.status.idle": "2025-09-22T15:24:41.191657Z",
     "shell.execute_reply": "2025-09-22T15:24:41.191185Z",
     "shell.execute_reply.started": "2025-09-22T15:24:40.966317Z"
    }
   },
   "outputs": [],
   "source": [
    "trainer.save_model('./finetuned_qwen4b')"
   ]
  },
  {
   "cell_type": "code",
   "execution_count": null,
   "id": "b4584c9f-3642-4d26-a28b-1445397726e0",
   "metadata": {},
   "outputs": [],
   "source": []
  }
 ],
 "metadata": {
  "kernelspec": {
   "display_name": "Python 3 (ipykernel)",
   "language": "python",
   "name": "python3"
  },
  "language_info": {
   "codemirror_mode": {
    "name": "ipython",
    "version": 3
   },
   "file_extension": ".py",
   "mimetype": "text/x-python",
   "name": "python",
   "nbconvert_exporter": "python",
   "pygments_lexer": "ipython3",
   "version": "3.12.9"
  }
 },
 "nbformat": 4,
 "nbformat_minor": 5
}
