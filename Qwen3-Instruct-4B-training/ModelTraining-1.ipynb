{
 "cells": [
  {
   "cell_type": "code",
   "execution_count": 1,
   "id": "374ab229-990d-4090-bae8-2bfcc2b08f08",
   "metadata": {
    "execution": {
     "iopub.execute_input": "2025-09-22T13:19:27.368552Z",
     "iopub.status.busy": "2025-09-22T13:19:27.368387Z",
     "iopub.status.idle": "2025-09-22T13:19:28.607234Z",
     "shell.execute_reply": "2025-09-22T13:19:28.606701Z",
     "shell.execute_reply.started": "2025-09-22T13:19:27.368537Z"
    }
   },
   "outputs": [
    {
     "name": "stdout",
     "output_type": "stream",
     "text": [
      "Requirement already satisfied: trl in /opt/conda/lib/python3.12/site-packages (0.23.0)\n",
      "Requirement already satisfied: accelerate>=1.4.0 in /opt/conda/lib/python3.12/site-packages (from trl) (1.10.0)\n",
      "Requirement already satisfied: datasets>=3.0.0 in /opt/conda/lib/python3.12/site-packages (from trl) (4.1.1)\n",
      "Requirement already satisfied: transformers>=4.56.1 in /opt/conda/lib/python3.12/site-packages (from trl) (4.56.2)\n",
      "Requirement already satisfied: numpy<3.0.0,>=1.17 in /opt/conda/lib/python3.12/site-packages (from accelerate>=1.4.0->trl) (1.26.4)\n",
      "Requirement already satisfied: packaging>=20.0 in /opt/conda/lib/python3.12/site-packages (from accelerate>=1.4.0->trl) (24.2)\n",
      "Requirement already satisfied: psutil in /opt/conda/lib/python3.12/site-packages (from accelerate>=1.4.0->trl) (5.9.8)\n",
      "Requirement already satisfied: pyyaml in /opt/conda/lib/python3.12/site-packages (from accelerate>=1.4.0->trl) (6.0.2)\n",
      "Requirement already satisfied: torch>=2.0.0 in /opt/conda/lib/python3.12/site-packages (from accelerate>=1.4.0->trl) (2.6.0)\n",
      "Requirement already satisfied: huggingface_hub>=0.21.0 in /opt/conda/lib/python3.12/site-packages (from accelerate>=1.4.0->trl) (0.34.4)\n",
      "Requirement already satisfied: safetensors>=0.4.3 in /opt/conda/lib/python3.12/site-packages (from accelerate>=1.4.0->trl) (0.6.2)\n",
      "Requirement already satisfied: filelock in /opt/conda/lib/python3.12/site-packages (from datasets>=3.0.0->trl) (3.19.1)\n",
      "Requirement already satisfied: pyarrow>=21.0.0 in /opt/conda/lib/python3.12/site-packages (from datasets>=3.0.0->trl) (21.0.0)\n",
      "Requirement already satisfied: dill<0.4.1,>=0.3.0 in /opt/conda/lib/python3.12/site-packages (from datasets>=3.0.0->trl) (0.4.0)\n",
      "Requirement already satisfied: pandas in /opt/conda/lib/python3.12/site-packages (from datasets>=3.0.0->trl) (2.3.1)\n",
      "Requirement already satisfied: requests>=2.32.2 in /opt/conda/lib/python3.12/site-packages (from datasets>=3.0.0->trl) (2.32.4)\n",
      "Requirement already satisfied: tqdm>=4.66.3 in /opt/conda/lib/python3.12/site-packages (from datasets>=3.0.0->trl) (4.67.1)\n",
      "Requirement already satisfied: xxhash in /opt/conda/lib/python3.12/site-packages (from datasets>=3.0.0->trl) (3.5.0)\n",
      "Requirement already satisfied: multiprocess<0.70.17 in /opt/conda/lib/python3.12/site-packages (from datasets>=3.0.0->trl) (0.70.16)\n",
      "Requirement already satisfied: fsspec<=2025.9.0,>=2023.1.0 in /opt/conda/lib/python3.12/site-packages (from fsspec[http]<=2025.9.0,>=2023.1.0->datasets>=3.0.0->trl) (2024.12.0)\n",
      "Requirement already satisfied: aiohttp!=4.0.0a0,!=4.0.0a1 in /opt/conda/lib/python3.12/site-packages (from fsspec[http]<=2025.9.0,>=2023.1.0->datasets>=3.0.0->trl) (3.12.15)\n",
      "Requirement already satisfied: aiohappyeyeballs>=2.5.0 in /opt/conda/lib/python3.12/site-packages (from aiohttp!=4.0.0a0,!=4.0.0a1->fsspec[http]<=2025.9.0,>=2023.1.0->datasets>=3.0.0->trl) (2.6.1)\n",
      "Requirement already satisfied: aiosignal>=1.4.0 in /opt/conda/lib/python3.12/site-packages (from aiohttp!=4.0.0a0,!=4.0.0a1->fsspec[http]<=2025.9.0,>=2023.1.0->datasets>=3.0.0->trl) (1.4.0)\n",
      "Requirement already satisfied: attrs>=17.3.0 in /opt/conda/lib/python3.12/site-packages (from aiohttp!=4.0.0a0,!=4.0.0a1->fsspec[http]<=2025.9.0,>=2023.1.0->datasets>=3.0.0->trl) (23.2.0)\n",
      "Requirement already satisfied: frozenlist>=1.1.1 in /opt/conda/lib/python3.12/site-packages (from aiohttp!=4.0.0a0,!=4.0.0a1->fsspec[http]<=2025.9.0,>=2023.1.0->datasets>=3.0.0->trl) (1.7.0)\n",
      "Requirement already satisfied: multidict<7.0,>=4.5 in /opt/conda/lib/python3.12/site-packages (from aiohttp!=4.0.0a0,!=4.0.0a1->fsspec[http]<=2025.9.0,>=2023.1.0->datasets>=3.0.0->trl) (6.6.3)\n",
      "Requirement already satisfied: propcache>=0.2.0 in /opt/conda/lib/python3.12/site-packages (from aiohttp!=4.0.0a0,!=4.0.0a1->fsspec[http]<=2025.9.0,>=2023.1.0->datasets>=3.0.0->trl) (0.3.1)\n",
      "Requirement already satisfied: yarl<2.0,>=1.17.0 in /opt/conda/lib/python3.12/site-packages (from aiohttp!=4.0.0a0,!=4.0.0a1->fsspec[http]<=2025.9.0,>=2023.1.0->datasets>=3.0.0->trl) (1.20.1)\n",
      "Requirement already satisfied: idna>=2.0 in /opt/conda/lib/python3.12/site-packages (from yarl<2.0,>=1.17.0->aiohttp!=4.0.0a0,!=4.0.0a1->fsspec[http]<=2025.9.0,>=2023.1.0->datasets>=3.0.0->trl) (3.10)\n",
      "Requirement already satisfied: typing-extensions>=4.2 in /opt/conda/lib/python3.12/site-packages (from aiosignal>=1.4.0->aiohttp!=4.0.0a0,!=4.0.0a1->fsspec[http]<=2025.9.0,>=2023.1.0->datasets>=3.0.0->trl) (4.14.1)\n",
      "Requirement already satisfied: hf-xet<2.0.0,>=1.1.3 in /opt/conda/lib/python3.12/site-packages (from huggingface_hub>=0.21.0->accelerate>=1.4.0->trl) (1.1.7)\n",
      "Requirement already satisfied: charset_normalizer<4,>=2 in /opt/conda/lib/python3.12/site-packages (from requests>=2.32.2->datasets>=3.0.0->trl) (3.4.3)\n",
      "Requirement already satisfied: urllib3<3,>=1.21.1 in /opt/conda/lib/python3.12/site-packages (from requests>=2.32.2->datasets>=3.0.0->trl) (1.26.19)\n",
      "Requirement already satisfied: certifi>=2017.4.17 in /opt/conda/lib/python3.12/site-packages (from requests>=2.32.2->datasets>=3.0.0->trl) (2025.8.3)\n",
      "Requirement already satisfied: setuptools in /opt/conda/lib/python3.12/site-packages (from torch>=2.0.0->accelerate>=1.4.0->trl) (80.9.0)\n",
      "Requirement already satisfied: sympy!=1.13.2,>=1.13.1 in /opt/conda/lib/python3.12/site-packages (from torch>=2.0.0->accelerate>=1.4.0->trl) (1.14.0)\n",
      "Requirement already satisfied: networkx in /opt/conda/lib/python3.12/site-packages (from torch>=2.0.0->accelerate>=1.4.0->trl) (3.5)\n",
      "Requirement already satisfied: jinja2 in /opt/conda/lib/python3.12/site-packages (from torch>=2.0.0->accelerate>=1.4.0->trl) (3.1.6)\n",
      "Requirement already satisfied: mpmath<1.4,>=1.1.0 in /opt/conda/lib/python3.12/site-packages (from sympy!=1.13.2,>=1.13.1->torch>=2.0.0->accelerate>=1.4.0->trl) (1.3.0)\n",
      "Requirement already satisfied: regex!=2019.12.17 in /opt/conda/lib/python3.12/site-packages (from transformers>=4.56.1->trl) (2025.7.34)\n",
      "Requirement already satisfied: tokenizers<=0.23.0,>=0.22.0 in /opt/conda/lib/python3.12/site-packages (from transformers>=4.56.1->trl) (0.22.1)\n",
      "Requirement already satisfied: MarkupSafe>=2.0 in /opt/conda/lib/python3.12/site-packages (from jinja2->torch>=2.0.0->accelerate>=1.4.0->trl) (3.0.2)\n",
      "Requirement already satisfied: python-dateutil>=2.8.2 in /opt/conda/lib/python3.12/site-packages (from pandas->datasets>=3.0.0->trl) (2.9.0.post0)\n",
      "Requirement already satisfied: pytz>=2020.1 in /opt/conda/lib/python3.12/site-packages (from pandas->datasets>=3.0.0->trl) (2024.2)\n",
      "Requirement already satisfied: tzdata>=2022.7 in /opt/conda/lib/python3.12/site-packages (from pandas->datasets>=3.0.0->trl) (2025.2)\n",
      "Requirement already satisfied: six>=1.5 in /opt/conda/lib/python3.12/site-packages (from python-dateutil>=2.8.2->pandas->datasets>=3.0.0->trl) (1.17.0)\n"
     ]
    }
   ],
   "source": [
    "!pip install trl"
   ]
  },
  {
   "cell_type": "code",
   "execution_count": 2,
   "id": "4e827362-605e-4347-a0c3-c65ac92d0ea7",
   "metadata": {
    "execution": {
     "iopub.execute_input": "2025-09-22T13:19:28.607984Z",
     "iopub.status.busy": "2025-09-22T13:19:28.607789Z",
     "iopub.status.idle": "2025-09-22T13:19:29.798204Z",
     "shell.execute_reply": "2025-09-22T13:19:29.797582Z",
     "shell.execute_reply.started": "2025-09-22T13:19:28.607963Z"
    }
   },
   "outputs": [
    {
     "name": "stdout",
     "output_type": "stream",
     "text": [
      "Requirement already satisfied: bitsandbytes in /opt/conda/lib/python3.12/site-packages (0.47.0)\n",
      "Requirement already satisfied: torch<3,>=2.2 in /opt/conda/lib/python3.12/site-packages (from bitsandbytes) (2.6.0)\n",
      "Requirement already satisfied: numpy>=1.17 in /opt/conda/lib/python3.12/site-packages (from bitsandbytes) (1.26.4)\n",
      "Requirement already satisfied: filelock in /opt/conda/lib/python3.12/site-packages (from torch<3,>=2.2->bitsandbytes) (3.19.1)\n",
      "Requirement already satisfied: typing-extensions>=4.10.0 in /opt/conda/lib/python3.12/site-packages (from torch<3,>=2.2->bitsandbytes) (4.14.1)\n",
      "Requirement already satisfied: setuptools in /opt/conda/lib/python3.12/site-packages (from torch<3,>=2.2->bitsandbytes) (80.9.0)\n",
      "Requirement already satisfied: sympy!=1.13.2,>=1.13.1 in /opt/conda/lib/python3.12/site-packages (from torch<3,>=2.2->bitsandbytes) (1.14.0)\n",
      "Requirement already satisfied: networkx in /opt/conda/lib/python3.12/site-packages (from torch<3,>=2.2->bitsandbytes) (3.5)\n",
      "Requirement already satisfied: jinja2 in /opt/conda/lib/python3.12/site-packages (from torch<3,>=2.2->bitsandbytes) (3.1.6)\n",
      "Requirement already satisfied: fsspec in /opt/conda/lib/python3.12/site-packages (from torch<3,>=2.2->bitsandbytes) (2024.12.0)\n",
      "Requirement already satisfied: mpmath<1.4,>=1.1.0 in /opt/conda/lib/python3.12/site-packages (from sympy!=1.13.2,>=1.13.1->torch<3,>=2.2->bitsandbytes) (1.3.0)\n",
      "Requirement already satisfied: MarkupSafe>=2.0 in /opt/conda/lib/python3.12/site-packages (from jinja2->torch<3,>=2.2->bitsandbytes) (3.0.2)\n"
     ]
    }
   ],
   "source": [
    "!pip install -U bitsandbytes"
   ]
  },
  {
   "cell_type": "code",
   "execution_count": 3,
   "id": "7542a8b8-2999-4fc7-a752-cad626a06baa",
   "metadata": {
    "execution": {
     "iopub.execute_input": "2025-09-22T13:19:29.799167Z",
     "iopub.status.busy": "2025-09-22T13:19:29.798929Z",
     "iopub.status.idle": "2025-09-22T13:19:30.950038Z",
     "shell.execute_reply": "2025-09-22T13:19:30.949435Z",
     "shell.execute_reply.started": "2025-09-22T13:19:29.799141Z"
    }
   },
   "outputs": [
    {
     "name": "stdout",
     "output_type": "stream",
     "text": [
      "Requirement already satisfied: torch in /opt/conda/lib/python3.12/site-packages (2.6.0)\n",
      "Requirement already satisfied: filelock in /opt/conda/lib/python3.12/site-packages (from torch) (3.19.1)\n",
      "Requirement already satisfied: typing-extensions>=4.10.0 in /opt/conda/lib/python3.12/site-packages (from torch) (4.14.1)\n",
      "Requirement already satisfied: setuptools in /opt/conda/lib/python3.12/site-packages (from torch) (80.9.0)\n",
      "Requirement already satisfied: sympy!=1.13.2,>=1.13.1 in /opt/conda/lib/python3.12/site-packages (from torch) (1.14.0)\n",
      "Requirement already satisfied: networkx in /opt/conda/lib/python3.12/site-packages (from torch) (3.5)\n",
      "Requirement already satisfied: jinja2 in /opt/conda/lib/python3.12/site-packages (from torch) (3.1.6)\n",
      "Requirement already satisfied: fsspec in /opt/conda/lib/python3.12/site-packages (from torch) (2024.12.0)\n",
      "Requirement already satisfied: mpmath<1.4,>=1.1.0 in /opt/conda/lib/python3.12/site-packages (from sympy!=1.13.2,>=1.13.1->torch) (1.3.0)\n",
      "Requirement already satisfied: MarkupSafe>=2.0 in /opt/conda/lib/python3.12/site-packages (from jinja2->torch) (3.0.2)\n"
     ]
    }
   ],
   "source": [
    "!pip install torch"
   ]
  },
  {
   "cell_type": "code",
   "execution_count": 4,
   "id": "88a9aa62-1ede-489a-a25f-084a06be0694",
   "metadata": {
    "execution": {
     "iopub.execute_input": "2025-09-22T13:19:30.950830Z",
     "iopub.status.busy": "2025-09-22T13:19:30.950658Z",
     "iopub.status.idle": "2025-09-22T13:19:32.149271Z",
     "shell.execute_reply": "2025-09-22T13:19:32.148625Z",
     "shell.execute_reply.started": "2025-09-22T13:19:30.950811Z"
    }
   },
   "outputs": [
    {
     "name": "stdout",
     "output_type": "stream",
     "text": [
      "Requirement already satisfied: peft in /opt/conda/lib/python3.12/site-packages (0.17.1)\n",
      "Requirement already satisfied: numpy>=1.17 in /opt/conda/lib/python3.12/site-packages (from peft) (1.26.4)\n",
      "Requirement already satisfied: packaging>=20.0 in /opt/conda/lib/python3.12/site-packages (from peft) (24.2)\n",
      "Requirement already satisfied: psutil in /opt/conda/lib/python3.12/site-packages (from peft) (5.9.8)\n",
      "Requirement already satisfied: pyyaml in /opt/conda/lib/python3.12/site-packages (from peft) (6.0.2)\n",
      "Requirement already satisfied: torch>=1.13.0 in /opt/conda/lib/python3.12/site-packages (from peft) (2.6.0)\n",
      "Requirement already satisfied: transformers in /opt/conda/lib/python3.12/site-packages (from peft) (4.56.2)\n",
      "Requirement already satisfied: tqdm in /opt/conda/lib/python3.12/site-packages (from peft) (4.67.1)\n",
      "Requirement already satisfied: accelerate>=0.21.0 in /opt/conda/lib/python3.12/site-packages (from peft) (1.10.0)\n",
      "Requirement already satisfied: safetensors in /opt/conda/lib/python3.12/site-packages (from peft) (0.6.2)\n",
      "Requirement already satisfied: huggingface_hub>=0.25.0 in /opt/conda/lib/python3.12/site-packages (from peft) (0.34.4)\n",
      "Requirement already satisfied: filelock in /opt/conda/lib/python3.12/site-packages (from huggingface_hub>=0.25.0->peft) (3.19.1)\n",
      "Requirement already satisfied: fsspec>=2023.5.0 in /opt/conda/lib/python3.12/site-packages (from huggingface_hub>=0.25.0->peft) (2024.12.0)\n",
      "Requirement already satisfied: hf-xet<2.0.0,>=1.1.3 in /opt/conda/lib/python3.12/site-packages (from huggingface_hub>=0.25.0->peft) (1.1.7)\n",
      "Requirement already satisfied: requests in /opt/conda/lib/python3.12/site-packages (from huggingface_hub>=0.25.0->peft) (2.32.4)\n",
      "Requirement already satisfied: typing-extensions>=3.7.4.3 in /opt/conda/lib/python3.12/site-packages (from huggingface_hub>=0.25.0->peft) (4.14.1)\n",
      "Requirement already satisfied: setuptools in /opt/conda/lib/python3.12/site-packages (from torch>=1.13.0->peft) (80.9.0)\n",
      "Requirement already satisfied: sympy!=1.13.2,>=1.13.1 in /opt/conda/lib/python3.12/site-packages (from torch>=1.13.0->peft) (1.14.0)\n",
      "Requirement already satisfied: networkx in /opt/conda/lib/python3.12/site-packages (from torch>=1.13.0->peft) (3.5)\n",
      "Requirement already satisfied: jinja2 in /opt/conda/lib/python3.12/site-packages (from torch>=1.13.0->peft) (3.1.6)\n",
      "Requirement already satisfied: mpmath<1.4,>=1.1.0 in /opt/conda/lib/python3.12/site-packages (from sympy!=1.13.2,>=1.13.1->torch>=1.13.0->peft) (1.3.0)\n",
      "Requirement already satisfied: MarkupSafe>=2.0 in /opt/conda/lib/python3.12/site-packages (from jinja2->torch>=1.13.0->peft) (3.0.2)\n",
      "Requirement already satisfied: charset_normalizer<4,>=2 in /opt/conda/lib/python3.12/site-packages (from requests->huggingface_hub>=0.25.0->peft) (3.4.3)\n",
      "Requirement already satisfied: idna<4,>=2.5 in /opt/conda/lib/python3.12/site-packages (from requests->huggingface_hub>=0.25.0->peft) (3.10)\n",
      "Requirement already satisfied: urllib3<3,>=1.21.1 in /opt/conda/lib/python3.12/site-packages (from requests->huggingface_hub>=0.25.0->peft) (1.26.19)\n",
      "Requirement already satisfied: certifi>=2017.4.17 in /opt/conda/lib/python3.12/site-packages (from requests->huggingface_hub>=0.25.0->peft) (2025.8.3)\n",
      "Requirement already satisfied: regex!=2019.12.17 in /opt/conda/lib/python3.12/site-packages (from transformers->peft) (2025.7.34)\n",
      "Requirement already satisfied: tokenizers<=0.23.0,>=0.22.0 in /opt/conda/lib/python3.12/site-packages (from transformers->peft) (0.22.1)\n"
     ]
    }
   ],
   "source": [
    "!pip install peft"
   ]
  },
  {
   "cell_type": "code",
   "execution_count": 5,
   "id": "a6837a42-d8ec-44dd-a1e5-3e2e7ace2f88",
   "metadata": {
    "execution": {
     "iopub.execute_input": "2025-09-22T13:19:32.151124Z",
     "iopub.status.busy": "2025-09-22T13:19:32.150942Z",
     "iopub.status.idle": "2025-09-22T13:19:38.750373Z",
     "shell.execute_reply": "2025-09-22T13:19:38.749895Z",
     "shell.execute_reply.started": "2025-09-22T13:19:32.151105Z"
    }
   },
   "outputs": [
    {
     "name": "stderr",
     "output_type": "stream",
     "text": [
      "2025-09-22 13:19:35.997381: E external/local_xla/xla/stream_executor/cuda/cuda_fft.cc:477] Unable to register cuFFT factory: Attempting to register factory for plugin cuFFT when one has already been registered\n",
      "WARNING: All log messages before absl::InitializeLog() is called are written to STDERR\n",
      "E0000 00:00:1758547176.009966    3356 cuda_dnn.cc:8310] Unable to register cuDNN factory: Attempting to register factory for plugin cuDNN when one has already been registered\n",
      "E0000 00:00:1758547176.013790    3356 cuda_blas.cc:1418] Unable to register cuBLAS factory: Attempting to register factory for plugin cuBLAS when one has already been registered\n",
      "2025-09-22 13:19:36.026589: I tensorflow/core/platform/cpu_feature_guard.cc:210] This TensorFlow binary is optimized to use available CPU instructions in performance-critical operations.\n",
      "To enable the following instructions: SSE4.1 SSE4.2 AVX AVX2 FMA, in other operations, rebuild TensorFlow with the appropriate compiler flags.\n"
     ]
    }
   ],
   "source": [
    "from trl import SFTTrainer"
   ]
  },
  {
   "cell_type": "code",
   "execution_count": 6,
   "id": "862afefa-debc-4c2c-8c12-c0a8f5c3d30b",
   "metadata": {
    "execution": {
     "iopub.execute_input": "2025-09-22T13:19:38.751199Z",
     "iopub.status.busy": "2025-09-22T13:19:38.750830Z",
     "iopub.status.idle": "2025-09-22T13:19:38.753685Z",
     "shell.execute_reply": "2025-09-22T13:19:38.753105Z",
     "shell.execute_reply.started": "2025-09-22T13:19:38.751184Z"
    }
   },
   "outputs": [],
   "source": [
    "import pandas as pd"
   ]
  },
  {
   "cell_type": "code",
   "execution_count": 7,
   "id": "714683d7-e9f1-4f1a-bed7-c31a666eebd0",
   "metadata": {
    "execution": {
     "iopub.execute_input": "2025-09-22T13:19:38.754403Z",
     "iopub.status.busy": "2025-09-22T13:19:38.754208Z",
     "iopub.status.idle": "2025-09-22T13:19:38.758062Z",
     "shell.execute_reply": "2025-09-22T13:19:38.757630Z",
     "shell.execute_reply.started": "2025-09-22T13:19:38.754383Z"
    }
   },
   "outputs": [],
   "source": [
    "from datasets import load_dataset\n",
    "from datasets import Dataset\n",
    "import json"
   ]
  },
  {
   "cell_type": "code",
   "execution_count": 8,
   "id": "de0e8177-0dfe-44f6-b6a4-8e149de42ea3",
   "metadata": {
    "execution": {
     "iopub.execute_input": "2025-09-22T13:19:38.758572Z",
     "iopub.status.busy": "2025-09-22T13:19:38.758430Z",
     "iopub.status.idle": "2025-09-22T13:19:45.928014Z",
     "shell.execute_reply": "2025-09-22T13:19:45.927492Z",
     "shell.execute_reply.started": "2025-09-22T13:19:38.758558Z"
    }
   },
   "outputs": [],
   "source": [
    "import torch\n",
    "from transformers import AutoTokenizer, AutoModelForCausalLM\n",
    "\n",
    "tokenizer = AutoTokenizer.from_pretrained(\"./local_model_dir\", use_fast=False)\n",
    "model = AutoModelForCausalLM.from_pretrained(\n",
    "    \"./local_model_dir\",\n",
    "    trust_remote_code=True,\n",
    ")\n",
    "\n",
    "# Get the device from the model (for quantized models, this is usually 'cuda' if available)\n",
    "#device = next(model.parameters()).device"
   ]
  },
  {
   "cell_type": "code",
   "execution_count": 9,
   "id": "2db30c8d-b4ea-437b-bde6-421206026a38",
   "metadata": {
    "execution": {
     "iopub.execute_input": "2025-09-22T13:19:45.928717Z",
     "iopub.status.busy": "2025-09-22T13:19:45.928526Z",
     "iopub.status.idle": "2025-09-22T13:19:45.935974Z",
     "shell.execute_reply": "2025-09-22T13:19:45.935501Z",
     "shell.execute_reply.started": "2025-09-22T13:19:45.928697Z"
    }
   },
   "outputs": [],
   "source": [
    "train_df = pd.read_csv(\"./data/train_dataset.csv\")"
   ]
  },
  {
   "cell_type": "code",
   "execution_count": 10,
   "id": "a34151e9-7ed6-450f-a0e9-d7e54624795b",
   "metadata": {
    "execution": {
     "iopub.execute_input": "2025-09-22T13:19:45.936571Z",
     "iopub.status.busy": "2025-09-22T13:19:45.936421Z",
     "iopub.status.idle": "2025-09-22T13:19:45.944804Z",
     "shell.execute_reply": "2025-09-22T13:19:45.944342Z",
     "shell.execute_reply.started": "2025-09-22T13:19:45.936557Z"
    }
   },
   "outputs": [],
   "source": [
    "train_df = Dataset.from_pandas(train_df)"
   ]
  },
  {
   "cell_type": "code",
   "execution_count": 11,
   "id": "df06a1d4-26b7-4ffc-8626-e4c7782940b9",
   "metadata": {
    "execution": {
     "iopub.execute_input": "2025-09-22T13:19:45.945385Z",
     "iopub.status.busy": "2025-09-22T13:19:45.945235Z",
     "iopub.status.idle": "2025-09-22T13:19:45.947720Z",
     "shell.execute_reply": "2025-09-22T13:19:45.947228Z",
     "shell.execute_reply.started": "2025-09-22T13:19:45.945371Z"
    }
   },
   "outputs": [],
   "source": [
    "SYSTEM_PROMPT = \"You are a helpful assistant that uses the provided tools to answer.\""
   ]
  },
  {
   "cell_type": "code",
   "execution_count": 12,
   "id": "019900e6-cecb-434b-a273-e2275391e09a",
   "metadata": {
    "execution": {
     "iopub.execute_input": "2025-09-22T13:19:45.948261Z",
     "iopub.status.busy": "2025-09-22T13:19:45.948120Z",
     "iopub.status.idle": "2025-09-22T13:19:45.952491Z",
     "shell.execute_reply": "2025-09-22T13:19:45.951985Z",
     "shell.execute_reply.started": "2025-09-22T13:19:45.948248Z"
    }
   },
   "outputs": [],
   "source": [
    "def format_dataset(example):\n",
    "    query = example['query']\n",
    "    tools = json.loads(example['tools'])\n",
    "    expected_calls = json.loads(example['answers'])\n",
    "    #print([call for call in expected_calls])\n",
    "    formatted_calls = \"\".join([f\"<tool_call>{json.dumps(call)}</tool_call>\" for call in expected_calls])\n",
    "    #print(formatted_calls)\n",
    "                               \n",
    "    messages = [\n",
    "        {\"role\": \"system\", \"content\": SYSTEM_PROMPT},\n",
    "        {\"role\": \"user\", \"content\": query}, \n",
    "        {\"role\": \"assistant\", \"content\": formatted_calls}\n",
    "    ]\n",
    "    \n",
    "    texts = tokenizer.apply_chat_template(messages,tools = tools, tokenize=False, add_generation_prompt=False)\n",
    "    return {\"text\": texts}"
   ]
  },
  {
   "cell_type": "code",
   "execution_count": 13,
   "id": "95a0d430-b4b8-4636-8421-bfc773fbd4cf",
   "metadata": {
    "execution": {
     "iopub.execute_input": "2025-09-22T13:19:45.953210Z",
     "iopub.status.busy": "2025-09-22T13:19:45.953014Z",
     "iopub.status.idle": "2025-09-22T13:19:47.912261Z",
     "shell.execute_reply": "2025-09-22T13:19:47.911710Z",
     "shell.execute_reply.started": "2025-09-22T13:19:45.953191Z"
    }
   },
   "outputs": [
    {
     "data": {
      "application/vnd.jupyter.widget-view+json": {
       "model_id": "551015f3039c459899876a99c09b9d07",
       "version_major": 2,
       "version_minor": 0
      },
      "text/plain": [
       "Map:   0%|          | 0/489 [00:00<?, ? examples/s]"
      ]
     },
     "metadata": {},
     "output_type": "display_data"
    }
   ],
   "source": [
    "processed_train = train_df.map(format_dataset, remove_columns=train_df.column_names) "
   ]
  },
  {
   "cell_type": "code",
   "execution_count": null,
   "id": "51092784-2e95-43a7-8819-39d9483e5761",
   "metadata": {},
   "outputs": [],
   "source": []
  },
  {
   "cell_type": "code",
   "execution_count": 14,
   "id": "b52dfa73-a823-4ee9-a035-d47f6ae36a21",
   "metadata": {
    "execution": {
     "iopub.execute_input": "2025-09-22T13:19:47.912926Z",
     "iopub.status.busy": "2025-09-22T13:19:47.912747Z",
     "iopub.status.idle": "2025-09-22T13:19:47.916466Z",
     "shell.execute_reply": "2025-09-22T13:19:47.916005Z",
     "shell.execute_reply.started": "2025-09-22T13:19:47.912909Z"
    }
   },
   "outputs": [
    {
     "data": {
      "text/plain": [
       "{'text': '<|im_start|>system\\nYou are a helpful assistant that uses the provided tools to answer.\\n\\n# Tools\\n\\nYou may call one or more functions to assist with the user query.\\n\\nYou are provided with function signatures within <tools></tools> XML tags:\\n<tools>\\n{\"name\": \"chi_square_independence_test\", \"description\": \"Performs a Chi-Square test for independence on a 2x2 contingency table.\", \"parameters\": {\"contingency_table\": {\"description\": \"A 2x2 contingency table represented as a list of lists.\", \"type\": \"List[List[int]]\", \"default\": 0.05}, \"significance_level\": {\"description\": \"The significance level for the Chi-Square test. Defaults to 0.05.\", \"type\": \"float, optional\", \"default\": 0.05}}}\\n</tools>\\n\\nFor each function call, return a json object with function name and arguments within <tool_call></tool_call> XML tags:\\n<tool_call>\\n{\"name\": <function-name>, \"arguments\": <args-json-object>}\\n</tool_call><|im_end|>\\n<|im_start|>user\\nA psychologist wants to test if there is a significant relationship between a personality trait and a behavior. They have the following data: [[80, 20], [60, 40]]. Perform a Chi-Square test for independence with a significance level of 0.05.<|im_end|>\\n<|im_start|>assistant\\n<think>\\n\\n</think>\\n\\n<tool_call>{\"name\": \"chi_square_independence_test\", \"arguments\": {\"contingency_table\": [[80, 20], [60, 40]], \"significance_level\": 0.05}}</tool_call><|im_end|>\\n'}"
      ]
     },
     "execution_count": 14,
     "metadata": {},
     "output_type": "execute_result"
    }
   ],
   "source": [
    "processed_train[5]"
   ]
  },
  {
   "cell_type": "code",
   "execution_count": 15,
   "id": "16849a93-b36d-4e33-897e-a8affd3b6f44",
   "metadata": {
    "execution": {
     "iopub.execute_input": "2025-09-22T13:19:47.917010Z",
     "iopub.status.busy": "2025-09-22T13:19:47.916874Z",
     "iopub.status.idle": "2025-09-22T13:19:47.920136Z",
     "shell.execute_reply": "2025-09-22T13:19:47.919667Z",
     "shell.execute_reply.started": "2025-09-22T13:19:47.916997Z"
    }
   },
   "outputs": [],
   "source": [
    "from peft import LoraConfig\n",
    "lora_config = LoraConfig(\n",
    "    r=8,\n",
    "    lora_alpha=32,\n",
    "    target_modules=[\n",
    "        \"q_proj\",\n",
    "        \"v_proj\",\n",
    "        \"o_proj\",\n",
    "        \"k_proj\",\n",
    "        \"up_proj\",\n",
    "        \"down_proj\",\n",
    "        \"gate_proj\",\n",
    "    ],\n",
    "    bias=\"none\",\n",
    "    task_type=\"CAUSAL_LM\",\n",
    ")"
   ]
  },
  {
   "cell_type": "code",
   "execution_count": 16,
   "id": "f73f3a92-8d85-4263-b963-956b59fa443b",
   "metadata": {
    "execution": {
     "iopub.execute_input": "2025-09-22T13:19:47.920808Z",
     "iopub.status.busy": "2025-09-22T13:19:47.920616Z",
     "iopub.status.idle": "2025-09-22T13:19:48.178335Z",
     "shell.execute_reply": "2025-09-22T13:19:48.177778Z",
     "shell.execute_reply.started": "2025-09-22T13:19:47.920789Z"
    }
   },
   "outputs": [],
   "source": [
    "model.add_adapter(lora_config, adapter_name=\"lora_1\")"
   ]
  },
  {
   "cell_type": "code",
   "execution_count": 17,
   "id": "059162cc-9497-4007-9918-c85d50d3e7b7",
   "metadata": {
    "execution": {
     "iopub.execute_input": "2025-09-22T13:19:48.179164Z",
     "iopub.status.busy": "2025-09-22T13:19:48.178951Z",
     "iopub.status.idle": "2025-09-22T13:19:48.186416Z",
     "shell.execute_reply": "2025-09-22T13:19:48.185984Z",
     "shell.execute_reply.started": "2025-09-22T13:19:48.179143Z"
    }
   },
   "outputs": [],
   "source": [
    "model.gradient_checkpointing_enable()\n"
   ]
  },
  {
   "cell_type": "code",
   "execution_count": 18,
   "id": "a84eb0b8-f061-472f-821b-e95c24f22324",
   "metadata": {
    "execution": {
     "iopub.execute_input": "2025-09-22T13:19:48.187027Z",
     "iopub.status.busy": "2025-09-22T13:19:48.186852Z",
     "iopub.status.idle": "2025-09-22T13:19:48.191265Z",
     "shell.execute_reply": "2025-09-22T13:19:48.190821Z",
     "shell.execute_reply.started": "2025-09-22T13:19:48.187008Z"
    }
   },
   "outputs": [],
   "source": [
    "from trl import SFTConfig"
   ]
  },
  {
   "cell_type": "code",
   "execution_count": 19,
   "id": "02a725cc-6682-40cc-bdd7-73445c576493",
   "metadata": {
    "execution": {
     "iopub.execute_input": "2025-09-22T13:19:48.191916Z",
     "iopub.status.busy": "2025-09-22T13:19:48.191720Z",
     "iopub.status.idle": "2025-09-22T13:19:48.215542Z",
     "shell.execute_reply": "2025-09-22T13:19:48.215059Z",
     "shell.execute_reply.started": "2025-09-22T13:19:48.191896Z"
    }
   },
   "outputs": [],
   "source": [
    "training_args = SFTConfig(packing=False)"
   ]
  },
  {
   "cell_type": "code",
   "execution_count": 20,
   "id": "56d00fc5-f826-452e-b70d-ca92e27b8f0c",
   "metadata": {
    "execution": {
     "iopub.execute_input": "2025-09-22T13:19:48.217626Z",
     "iopub.status.busy": "2025-09-22T13:19:48.217449Z",
     "iopub.status.idle": "2025-09-22T13:19:49.789263Z",
     "shell.execute_reply": "2025-09-22T13:19:49.788783Z",
     "shell.execute_reply.started": "2025-09-22T13:19:48.217611Z"
    }
   },
   "outputs": [
    {
     "data": {
      "application/vnd.jupyter.widget-view+json": {
       "model_id": "34d51cf16fd041f0b81456c96eeca1c4",
       "version_major": 2,
       "version_minor": 0
      },
      "text/plain": [
       "Adding EOS to train dataset:   0%|          | 0/489 [00:00<?, ? examples/s]"
      ]
     },
     "metadata": {},
     "output_type": "display_data"
    },
    {
     "data": {
      "application/vnd.jupyter.widget-view+json": {
       "model_id": "ee682db2c168427a887777614555ca14",
       "version_major": 2,
       "version_minor": 0
      },
      "text/plain": [
       "Tokenizing train dataset:   0%|          | 0/489 [00:00<?, ? examples/s]"
      ]
     },
     "metadata": {},
     "output_type": "display_data"
    },
    {
     "data": {
      "application/vnd.jupyter.widget-view+json": {
       "model_id": "9a39b1f5d593469abe1a56dbedadbaed",
       "version_major": 2,
       "version_minor": 0
      },
      "text/plain": [
       "Truncating train dataset:   0%|          | 0/489 [00:00<?, ? examples/s]"
      ]
     },
     "metadata": {},
     "output_type": "display_data"
    }
   ],
   "source": [
    "trainer = SFTTrainer(\n",
    "    model=model,\n",
    "    args=training_args,\n",
    "    train_dataset=processed_train,\n",
    ")"
   ]
  },
  {
   "cell_type": "code",
   "execution_count": null,
   "id": "0b68ac3a-66be-417e-a888-89cdc6da8915",
   "metadata": {
    "execution": {
     "iopub.execute_input": "2025-09-22T13:19:49.789878Z",
     "iopub.status.busy": "2025-09-22T13:19:49.789710Z",
     "iopub.status.idle": "2025-09-22T13:35:46.865195Z"
    }
   },
   "outputs": [
    {
     "name": "stderr",
     "output_type": "stream",
     "text": [
      "The tokenizer has new PAD/BOS/EOS tokens that differ from the model config and generation config. The model config and generation config were aligned accordingly, being updated with the tokenizer's values. Updated tokens: {'bos_token_id': None, 'pad_token_id': 151643}.\n",
      "/opt/conda/lib/python3.12/site-packages/bitsandbytes/autograd/_functions.py:186: UserWarning: MatMul8bitLt: inputs will be cast from torch.bfloat16 to float16 during quantization\n",
      "  warnings.warn(f\"MatMul8bitLt: inputs will be cast from {A.dtype} to float16 during quantization\")\n",
      "/opt/conda/lib/python3.12/site-packages/bitsandbytes/autograd/_functions.py:186: UserWarning: MatMul8bitLt: inputs will be cast from torch.float32 to float16 during quantization\n",
      "  warnings.warn(f\"MatMul8bitLt: inputs will be cast from {A.dtype} to float16 during quantization\")\n"
     ]
    },
    {
     "data": {
      "text/html": [
       "\n",
       "    <div>\n",
       "      \n",
       "      <progress value='186' max='186' style='width:300px; height:20px; vertical-align: middle;'></progress>\n",
       "      [186/186 15:51, Epoch 3/3]\n",
       "    </div>\n",
       "    <table border=\"1\" class=\"dataframe\">\n",
       "  <thead>\n",
       " <tr style=\"text-align: left;\">\n",
       "      <th>Step</th>\n",
       "      <th>Training Loss</th>\n",
       "    </tr>\n",
       "  </thead>\n",
       "  <tbody>\n",
       "    <tr>\n",
       "      <td>10</td>\n",
       "      <td>2.669100</td>\n",
       "    </tr>\n",
       "    <tr>\n",
       "      <td>20</td>\n",
       "      <td>1.567100</td>\n",
       "    </tr>\n",
       "    <tr>\n",
       "      <td>30</td>\n",
       "      <td>0.896000</td>\n",
       "    </tr>\n",
       "    <tr>\n",
       "      <td>40</td>\n",
       "      <td>0.571500</td>\n",
       "    </tr>\n",
       "    <tr>\n",
       "      <td>50</td>\n",
       "      <td>0.457800</td>\n",
       "    </tr>\n",
       "    <tr>\n",
       "      <td>60</td>\n",
       "      <td>0.391600</td>\n",
       "    </tr>\n",
       "    <tr>\n",
       "      <td>70</td>\n",
       "      <td>0.346000</td>\n",
       "    </tr>\n",
       "    <tr>\n",
       "      <td>80</td>\n",
       "      <td>0.296700</td>\n",
       "    </tr>\n",
       "    <tr>\n",
       "      <td>90</td>\n",
       "      <td>0.276500</td>\n",
       "    </tr>\n",
       "    <tr>\n",
       "      <td>100</td>\n",
       "      <td>0.243300</td>\n",
       "    </tr>\n",
       "    <tr>\n",
       "      <td>110</td>\n",
       "      <td>0.243100</td>\n",
       "    </tr>\n",
       "    <tr>\n",
       "      <td>120</td>\n",
       "      <td>0.210100</td>\n",
       "    </tr>\n",
       "    <tr>\n",
       "      <td>130</td>\n",
       "      <td>0.206500</td>\n",
       "    </tr>\n",
       "    <tr>\n",
       "      <td>140</td>\n",
       "      <td>0.203300</td>\n",
       "    </tr>\n",
       "    <tr>\n",
       "      <td>150</td>\n",
       "      <td>0.184900</td>\n",
       "    </tr>\n",
       "    <tr>\n",
       "      <td>160</td>\n",
       "      <td>0.188500</td>\n",
       "    </tr>\n",
       "    <tr>\n",
       "      <td>170</td>\n",
       "      <td>0.188600</td>\n",
       "    </tr>\n",
       "    <tr>\n",
       "      <td>180</td>\n",
       "      <td>0.197600</td>\n",
       "    </tr>\n",
       "  </tbody>\n",
       "</table><p>"
      ],
      "text/plain": [
       "<IPython.core.display.HTML object>"
      ]
     },
     "metadata": {},
     "output_type": "display_data"
    },
    {
     "data": {
      "text/plain": [
       "TrainOutput(global_step=186, training_loss=0.5078044251729084, metrics={'train_runtime': 955.7064, 'train_samples_per_second': 1.535, 'train_steps_per_second': 0.195, 'total_flos': 1.1597077511384064e+16, 'train_loss': 0.5078044251729084, 'entropy': 0.20664420227209726, 'num_tokens': 397656.0, 'mean_token_accuracy': 0.9527674118677775, 'epoch': 3.0})"
      ]
     },
     "execution_count": 21,
     "metadata": {},
     "output_type": "execute_result"
    }
   ],
   "source": [
    "trainer.train()"
   ]
  },
  {
   "cell_type": "code",
   "execution_count": null,
   "id": "6176cb3b-e988-41ec-b94c-8616c2d7fa8b",
   "metadata": {},
   "outputs": [],
   "source": []
  },
  {
   "cell_type": "code",
   "execution_count": null,
   "id": "872f3a01-2e2e-47ce-aca0-ce1ce421438d",
   "metadata": {
    "execution": {
     "iopub.execute_input": "2025-09-22T13:35:46.865918Z",
     "iopub.status.busy": "2025-09-22T13:35:46.865757Z",
     "iopub.status.idle": "2025-09-22T13:35:46.872712Z"
    }
   },
   "outputs": [],
   "source": [
    "torch.cuda.memory._record_memory_history()\n",
    "torch.cuda.memory._dump_snapshot(\"snapshot.pickle\")"
   ]
  },
  {
   "cell_type": "code",
   "execution_count": null,
   "id": "e8d51d00-8e7b-49dd-9e7c-87101a99458c",
   "metadata": {
    "execution": {
     "iopub.execute_input": "2025-09-22T13:35:46.873436Z",
     "iopub.status.busy": "2025-09-22T13:35:46.873236Z",
     "iopub.status.idle": "2025-09-22T13:35:46.876485Z"
    }
   },
   "outputs": [
    {
     "name": "stdout",
     "output_type": "stream",
     "text": [
      "None\n"
     ]
    }
   ],
   "source": [
    "print(torch.cuda.memory._record_memory_history())"
   ]
  },
  {
   "cell_type": "code",
   "execution_count": 26,
   "id": "1563ae53-6e0b-49a1-9211-fd19d645fd51",
   "metadata": {
    "execution": {
     "iopub.execute_input": "2025-09-22T15:12:51.584891Z",
     "iopub.status.busy": "2025-09-22T15:12:51.584675Z",
     "iopub.status.idle": "2025-09-22T15:12:51.596565Z",
     "shell.execute_reply": "2025-09-22T15:12:51.596023Z",
     "shell.execute_reply.started": "2025-09-22T15:12:51.584875Z"
    }
   },
   "outputs": [
    {
     "data": {
      "text/plain": [
       "Qwen3ForCausalLM(\n",
       "  (model): Qwen3Model(\n",
       "    (embed_tokens): Embedding(151936, 2560)\n",
       "    (layers): ModuleList(\n",
       "      (0-35): 36 x Qwen3DecoderLayer(\n",
       "        (self_attn): Qwen3Attention(\n",
       "          (q_proj): lora.Linear8bitLt(\n",
       "            (base_layer): Linear8bitLt(in_features=2560, out_features=4096, bias=False)\n",
       "            (lora_dropout): ModuleDict(\n",
       "              (lora_1): Identity()\n",
       "            )\n",
       "            (lora_A): ModuleDict(\n",
       "              (lora_1): Linear(in_features=2560, out_features=8, bias=False)\n",
       "            )\n",
       "            (lora_B): ModuleDict(\n",
       "              (lora_1): Linear(in_features=8, out_features=4096, bias=False)\n",
       "            )\n",
       "            (lora_embedding_A): ParameterDict()\n",
       "            (lora_embedding_B): ParameterDict()\n",
       "            (lora_magnitude_vector): ModuleDict()\n",
       "          )\n",
       "          (k_proj): lora.Linear8bitLt(\n",
       "            (base_layer): Linear8bitLt(in_features=2560, out_features=1024, bias=False)\n",
       "            (lora_dropout): ModuleDict(\n",
       "              (lora_1): Identity()\n",
       "            )\n",
       "            (lora_A): ModuleDict(\n",
       "              (lora_1): Linear(in_features=2560, out_features=8, bias=False)\n",
       "            )\n",
       "            (lora_B): ModuleDict(\n",
       "              (lora_1): Linear(in_features=8, out_features=1024, bias=False)\n",
       "            )\n",
       "            (lora_embedding_A): ParameterDict()\n",
       "            (lora_embedding_B): ParameterDict()\n",
       "            (lora_magnitude_vector): ModuleDict()\n",
       "          )\n",
       "          (v_proj): lora.Linear8bitLt(\n",
       "            (base_layer): Linear8bitLt(in_features=2560, out_features=1024, bias=False)\n",
       "            (lora_dropout): ModuleDict(\n",
       "              (lora_1): Identity()\n",
       "            )\n",
       "            (lora_A): ModuleDict(\n",
       "              (lora_1): Linear(in_features=2560, out_features=8, bias=False)\n",
       "            )\n",
       "            (lora_B): ModuleDict(\n",
       "              (lora_1): Linear(in_features=8, out_features=1024, bias=False)\n",
       "            )\n",
       "            (lora_embedding_A): ParameterDict()\n",
       "            (lora_embedding_B): ParameterDict()\n",
       "            (lora_magnitude_vector): ModuleDict()\n",
       "          )\n",
       "          (o_proj): lora.Linear8bitLt(\n",
       "            (base_layer): Linear8bitLt(in_features=4096, out_features=2560, bias=False)\n",
       "            (lora_dropout): ModuleDict(\n",
       "              (lora_1): Identity()\n",
       "            )\n",
       "            (lora_A): ModuleDict(\n",
       "              (lora_1): Linear(in_features=4096, out_features=8, bias=False)\n",
       "            )\n",
       "            (lora_B): ModuleDict(\n",
       "              (lora_1): Linear(in_features=8, out_features=2560, bias=False)\n",
       "            )\n",
       "            (lora_embedding_A): ParameterDict()\n",
       "            (lora_embedding_B): ParameterDict()\n",
       "            (lora_magnitude_vector): ModuleDict()\n",
       "          )\n",
       "          (q_norm): Qwen3RMSNorm((128,), eps=1e-06)\n",
       "          (k_norm): Qwen3RMSNorm((128,), eps=1e-06)\n",
       "        )\n",
       "        (mlp): Qwen3MLP(\n",
       "          (gate_proj): lora.Linear8bitLt(\n",
       "            (base_layer): Linear8bitLt(in_features=2560, out_features=9728, bias=False)\n",
       "            (lora_dropout): ModuleDict(\n",
       "              (lora_1): Identity()\n",
       "            )\n",
       "            (lora_A): ModuleDict(\n",
       "              (lora_1): Linear(in_features=2560, out_features=8, bias=False)\n",
       "            )\n",
       "            (lora_B): ModuleDict(\n",
       "              (lora_1): Linear(in_features=8, out_features=9728, bias=False)\n",
       "            )\n",
       "            (lora_embedding_A): ParameterDict()\n",
       "            (lora_embedding_B): ParameterDict()\n",
       "            (lora_magnitude_vector): ModuleDict()\n",
       "          )\n",
       "          (up_proj): lora.Linear8bitLt(\n",
       "            (base_layer): Linear8bitLt(in_features=2560, out_features=9728, bias=False)\n",
       "            (lora_dropout): ModuleDict(\n",
       "              (lora_1): Identity()\n",
       "            )\n",
       "            (lora_A): ModuleDict(\n",
       "              (lora_1): Linear(in_features=2560, out_features=8, bias=False)\n",
       "            )\n",
       "            (lora_B): ModuleDict(\n",
       "              (lora_1): Linear(in_features=8, out_features=9728, bias=False)\n",
       "            )\n",
       "            (lora_embedding_A): ParameterDict()\n",
       "            (lora_embedding_B): ParameterDict()\n",
       "            (lora_magnitude_vector): ModuleDict()\n",
       "          )\n",
       "          (down_proj): lora.Linear8bitLt(\n",
       "            (base_layer): Linear8bitLt(in_features=9728, out_features=2560, bias=False)\n",
       "            (lora_dropout): ModuleDict(\n",
       "              (lora_1): Identity()\n",
       "            )\n",
       "            (lora_A): ModuleDict(\n",
       "              (lora_1): Linear(in_features=9728, out_features=8, bias=False)\n",
       "            )\n",
       "            (lora_B): ModuleDict(\n",
       "              (lora_1): Linear(in_features=8, out_features=2560, bias=False)\n",
       "            )\n",
       "            (lora_embedding_A): ParameterDict()\n",
       "            (lora_embedding_B): ParameterDict()\n",
       "            (lora_magnitude_vector): ModuleDict()\n",
       "          )\n",
       "          (act_fn): SiLU()\n",
       "        )\n",
       "        (input_layernorm): Qwen3RMSNorm((2560,), eps=1e-06)\n",
       "        (post_attention_layernorm): Qwen3RMSNorm((2560,), eps=1e-06)\n",
       "      )\n",
       "    )\n",
       "    (norm): Qwen3RMSNorm((2560,), eps=1e-06)\n",
       "    (rotary_emb): Qwen3RotaryEmbedding()\n",
       "  )\n",
       "  (lm_head): Linear(in_features=2560, out_features=151936, bias=False)\n",
       ")"
      ]
     },
     "execution_count": 26,
     "metadata": {},
     "output_type": "execute_result"
    }
   ],
   "source": [
    "model"
   ]
  },
  {
   "cell_type": "code",
   "execution_count": 27,
   "id": "5280261f-f70c-4a8a-b579-2378038385bb",
   "metadata": {
    "execution": {
     "iopub.execute_input": "2025-09-22T15:13:04.831352Z",
     "iopub.status.busy": "2025-09-22T15:13:04.831142Z",
     "iopub.status.idle": "2025-09-22T15:13:04.841317Z",
     "shell.execute_reply": "2025-09-22T15:13:04.840849Z",
     "shell.execute_reply.started": "2025-09-22T15:13:04.831333Z"
    }
   },
   "outputs": [
    {
     "data": {
      "text/plain": [
       "Qwen3ForCausalLM(\n",
       "  (model): Qwen3Model(\n",
       "    (embed_tokens): Embedding(151936, 2560)\n",
       "    (layers): ModuleList(\n",
       "      (0-35): 36 x Qwen3DecoderLayer(\n",
       "        (self_attn): Qwen3Attention(\n",
       "          (q_proj): lora.Linear8bitLt(\n",
       "            (base_layer): Linear8bitLt(in_features=2560, out_features=4096, bias=False)\n",
       "            (lora_dropout): ModuleDict(\n",
       "              (lora_1): Identity()\n",
       "            )\n",
       "            (lora_A): ModuleDict(\n",
       "              (lora_1): Linear(in_features=2560, out_features=8, bias=False)\n",
       "            )\n",
       "            (lora_B): ModuleDict(\n",
       "              (lora_1): Linear(in_features=8, out_features=4096, bias=False)\n",
       "            )\n",
       "            (lora_embedding_A): ParameterDict()\n",
       "            (lora_embedding_B): ParameterDict()\n",
       "            (lora_magnitude_vector): ModuleDict()\n",
       "          )\n",
       "          (k_proj): lora.Linear8bitLt(\n",
       "            (base_layer): Linear8bitLt(in_features=2560, out_features=1024, bias=False)\n",
       "            (lora_dropout): ModuleDict(\n",
       "              (lora_1): Identity()\n",
       "            )\n",
       "            (lora_A): ModuleDict(\n",
       "              (lora_1): Linear(in_features=2560, out_features=8, bias=False)\n",
       "            )\n",
       "            (lora_B): ModuleDict(\n",
       "              (lora_1): Linear(in_features=8, out_features=1024, bias=False)\n",
       "            )\n",
       "            (lora_embedding_A): ParameterDict()\n",
       "            (lora_embedding_B): ParameterDict()\n",
       "            (lora_magnitude_vector): ModuleDict()\n",
       "          )\n",
       "          (v_proj): lora.Linear8bitLt(\n",
       "            (base_layer): Linear8bitLt(in_features=2560, out_features=1024, bias=False)\n",
       "            (lora_dropout): ModuleDict(\n",
       "              (lora_1): Identity()\n",
       "            )\n",
       "            (lora_A): ModuleDict(\n",
       "              (lora_1): Linear(in_features=2560, out_features=8, bias=False)\n",
       "            )\n",
       "            (lora_B): ModuleDict(\n",
       "              (lora_1): Linear(in_features=8, out_features=1024, bias=False)\n",
       "            )\n",
       "            (lora_embedding_A): ParameterDict()\n",
       "            (lora_embedding_B): ParameterDict()\n",
       "            (lora_magnitude_vector): ModuleDict()\n",
       "          )\n",
       "          (o_proj): lora.Linear8bitLt(\n",
       "            (base_layer): Linear8bitLt(in_features=4096, out_features=2560, bias=False)\n",
       "            (lora_dropout): ModuleDict(\n",
       "              (lora_1): Identity()\n",
       "            )\n",
       "            (lora_A): ModuleDict(\n",
       "              (lora_1): Linear(in_features=4096, out_features=8, bias=False)\n",
       "            )\n",
       "            (lora_B): ModuleDict(\n",
       "              (lora_1): Linear(in_features=8, out_features=2560, bias=False)\n",
       "            )\n",
       "            (lora_embedding_A): ParameterDict()\n",
       "            (lora_embedding_B): ParameterDict()\n",
       "            (lora_magnitude_vector): ModuleDict()\n",
       "          )\n",
       "          (q_norm): Qwen3RMSNorm((128,), eps=1e-06)\n",
       "          (k_norm): Qwen3RMSNorm((128,), eps=1e-06)\n",
       "        )\n",
       "        (mlp): Qwen3MLP(\n",
       "          (gate_proj): lora.Linear8bitLt(\n",
       "            (base_layer): Linear8bitLt(in_features=2560, out_features=9728, bias=False)\n",
       "            (lora_dropout): ModuleDict(\n",
       "              (lora_1): Identity()\n",
       "            )\n",
       "            (lora_A): ModuleDict(\n",
       "              (lora_1): Linear(in_features=2560, out_features=8, bias=False)\n",
       "            )\n",
       "            (lora_B): ModuleDict(\n",
       "              (lora_1): Linear(in_features=8, out_features=9728, bias=False)\n",
       "            )\n",
       "            (lora_embedding_A): ParameterDict()\n",
       "            (lora_embedding_B): ParameterDict()\n",
       "            (lora_magnitude_vector): ModuleDict()\n",
       "          )\n",
       "          (up_proj): lora.Linear8bitLt(\n",
       "            (base_layer): Linear8bitLt(in_features=2560, out_features=9728, bias=False)\n",
       "            (lora_dropout): ModuleDict(\n",
       "              (lora_1): Identity()\n",
       "            )\n",
       "            (lora_A): ModuleDict(\n",
       "              (lora_1): Linear(in_features=2560, out_features=8, bias=False)\n",
       "            )\n",
       "            (lora_B): ModuleDict(\n",
       "              (lora_1): Linear(in_features=8, out_features=9728, bias=False)\n",
       "            )\n",
       "            (lora_embedding_A): ParameterDict()\n",
       "            (lora_embedding_B): ParameterDict()\n",
       "            (lora_magnitude_vector): ModuleDict()\n",
       "          )\n",
       "          (down_proj): lora.Linear8bitLt(\n",
       "            (base_layer): Linear8bitLt(in_features=9728, out_features=2560, bias=False)\n",
       "            (lora_dropout): ModuleDict(\n",
       "              (lora_1): Identity()\n",
       "            )\n",
       "            (lora_A): ModuleDict(\n",
       "              (lora_1): Linear(in_features=9728, out_features=8, bias=False)\n",
       "            )\n",
       "            (lora_B): ModuleDict(\n",
       "              (lora_1): Linear(in_features=8, out_features=2560, bias=False)\n",
       "            )\n",
       "            (lora_embedding_A): ParameterDict()\n",
       "            (lora_embedding_B): ParameterDict()\n",
       "            (lora_magnitude_vector): ModuleDict()\n",
       "          )\n",
       "          (act_fn): SiLU()\n",
       "        )\n",
       "        (input_layernorm): Qwen3RMSNorm((2560,), eps=1e-06)\n",
       "        (post_attention_layernorm): Qwen3RMSNorm((2560,), eps=1e-06)\n",
       "      )\n",
       "    )\n",
       "    (norm): Qwen3RMSNorm((2560,), eps=1e-06)\n",
       "    (rotary_emb): Qwen3RotaryEmbedding()\n",
       "  )\n",
       "  (lm_head): Linear(in_features=2560, out_features=151936, bias=False)\n",
       ")"
      ]
     },
     "execution_count": 27,
     "metadata": {},
     "output_type": "execute_result"
    }
   ],
   "source": [
    "model"
   ]
  },
  {
   "cell_type": "code",
   "execution_count": 28,
   "id": "cbf0917f-15ea-44c5-bfbf-036da4acfa86",
   "metadata": {
    "execution": {
     "iopub.execute_input": "2025-09-22T15:24:40.966333Z",
     "iopub.status.busy": "2025-09-22T15:24:40.966119Z",
     "iopub.status.idle": "2025-09-22T15:24:41.191657Z",
     "shell.execute_reply": "2025-09-22T15:24:41.191185Z",
     "shell.execute_reply.started": "2025-09-22T15:24:40.966317Z"
    }
   },
   "outputs": [],
   "source": [
    "trainer.save_model('./finetuned_qwen4b')"
   ]
  },
  {
   "cell_type": "code",
   "execution_count": null,
   "id": "b4584c9f-3642-4d26-a28b-1445397726e0",
   "metadata": {},
   "outputs": [],
   "source": []
  }
 ],
 "metadata": {
  "kernelspec": {
   "display_name": "Python 3 (ipykernel)",
   "language": "python",
   "name": "python3"
  },
  "language_info": {
   "codemirror_mode": {
    "name": "ipython",
    "version": 3
   },
   "file_extension": ".py",
   "mimetype": "text/x-python",
   "name": "python",
   "nbconvert_exporter": "python",
   "pygments_lexer": "ipython3",
   "version": "3.12.9"
  }
 },
 "nbformat": 4,
 "nbformat_minor": 5
}
